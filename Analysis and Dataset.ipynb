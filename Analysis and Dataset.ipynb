{
 "cells": [
  {
   "cell_type": "code",
   "execution_count": 25,
   "metadata": {},
   "outputs": [],
   "source": [
    "import pandas as pd\n",
    "import re\n",
    "from src.geopoint_mongo_functions import transformToGeoPoint as tg\n",
    "from src.geopoint_mongo_functions import geocode\n",
    "from src.Selenium_API_functions import getPage\n",
    "from src.Selenium_API_functions import getFromFoursquare\n",
    "from src.Selenium_API_functions import getFromFoursquareCategory\n",
    "from src.Selenium_API_functions import limpiaRespFoursquareCategory\n",
    "import numpy as np\n",
    "from pymongo import MongoClient"
   ]
  },
  {
   "cell_type": "code",
   "execution_count": 2,
   "metadata": {},
   "outputs": [
    {
     "name": "stdout",
     "output_type": "stream",
     "text": [
      "CPU times: user 18 s, sys: 1.67 s, total: 19.7 s\n",
      "Wall time: 23.3 s\n"
     ]
    }
   ],
   "source": [
    "%%time\n",
    "df = pd.read_csv('input/companies_sorted.csv', encoding = 'latin-1')"
   ]
  },
  {
   "cell_type": "code",
   "execution_count": 3,
   "metadata": {},
   "outputs": [
    {
     "data": {
      "text/html": [
       "<div>\n",
       "<style scoped>\n",
       "    .dataframe tbody tr th:only-of-type {\n",
       "        vertical-align: middle;\n",
       "    }\n",
       "\n",
       "    .dataframe tbody tr th {\n",
       "        vertical-align: top;\n",
       "    }\n",
       "\n",
       "    .dataframe thead th {\n",
       "        text-align: right;\n",
       "    }\n",
       "</style>\n",
       "<table border=\"1\" class=\"dataframe\">\n",
       "  <thead>\n",
       "    <tr style=\"text-align: right;\">\n",
       "      <th></th>\n",
       "      <th>Unnamed: 0</th>\n",
       "      <th>name</th>\n",
       "      <th>domain</th>\n",
       "      <th>year founded</th>\n",
       "      <th>industry</th>\n",
       "      <th>size range</th>\n",
       "      <th>locality</th>\n",
       "      <th>country</th>\n",
       "      <th>linkedin url</th>\n",
       "      <th>current employee estimate</th>\n",
       "      <th>total employee estimate</th>\n",
       "    </tr>\n",
       "  </thead>\n",
       "  <tbody>\n",
       "    <tr>\n",
       "      <th>0</th>\n",
       "      <td>5872184</td>\n",
       "      <td>ibm</td>\n",
       "      <td>ibm.com</td>\n",
       "      <td>1911.0</td>\n",
       "      <td>information technology and services</td>\n",
       "      <td>10001+</td>\n",
       "      <td>new york, new york, united states</td>\n",
       "      <td>united states</td>\n",
       "      <td>linkedin.com/company/ibm</td>\n",
       "      <td>274047</td>\n",
       "      <td>716906</td>\n",
       "    </tr>\n",
       "    <tr>\n",
       "      <th>1</th>\n",
       "      <td>4425416</td>\n",
       "      <td>tata consultancy services</td>\n",
       "      <td>tcs.com</td>\n",
       "      <td>1968.0</td>\n",
       "      <td>information technology and services</td>\n",
       "      <td>10001+</td>\n",
       "      <td>bombay, maharashtra, india</td>\n",
       "      <td>india</td>\n",
       "      <td>linkedin.com/company/tata-consultancy-services</td>\n",
       "      <td>190771</td>\n",
       "      <td>341369</td>\n",
       "    </tr>\n",
       "  </tbody>\n",
       "</table>\n",
       "</div>"
      ],
      "text/plain": [
       "   Unnamed: 0                       name   domain  year founded  \\\n",
       "0     5872184                        ibm  ibm.com        1911.0   \n",
       "1     4425416  tata consultancy services  tcs.com        1968.0   \n",
       "\n",
       "                              industry size range  \\\n",
       "0  information technology and services     10001+   \n",
       "1  information technology and services     10001+   \n",
       "\n",
       "                            locality        country  \\\n",
       "0  new york, new york, united states  united states   \n",
       "1         bombay, maharashtra, india          india   \n",
       "\n",
       "                                     linkedin url  current employee estimate  \\\n",
       "0                        linkedin.com/company/ibm                     274047   \n",
       "1  linkedin.com/company/tata-consultancy-services                     190771   \n",
       "\n",
       "   total employee estimate  \n",
       "0                   716906  \n",
       "1                   341369  "
      ]
     },
     "execution_count": 3,
     "metadata": {},
     "output_type": "execute_result"
    }
   ],
   "source": [
    "# dataset con mas de 7M de company\n",
    "df.head(2)"
   ]
  },
  {
   "cell_type": "code",
   "execution_count": 4,
   "metadata": {},
   "outputs": [],
   "source": [
    "# Remove row where all values are None- No hace falta\n",
    "#df = df.dropna(how='all')"
   ]
  },
  {
   "cell_type": "code",
   "execution_count": 5,
   "metadata": {},
   "outputs": [],
   "source": [
    "# la empresa di GAMING 'Sardatech must4in3' quiere abrír su nueva tienda en Italia.\n",
    "# Hay que decidir el lugar ideal para poner la nueva oficina\n",
    "# \n",
    "# Del Dataset inicíal me quedo solo con las empresas italianas\n",
    "italy_companies = df[df.country == 'italy']"
   ]
  },
  {
   "cell_type": "code",
   "execution_count": 6,
   "metadata": {},
   "outputs": [
    {
     "data": {
      "text/plain": [
       "year founded               33134\n",
       "domain                     16474\n",
       "industry                     597\n",
       "locality                     125\n",
       "total employee estimate        0\n",
       "dtype: int64"
      ]
     },
     "execution_count": 6,
     "metadata": {},
     "output_type": "execute_result"
    }
   ],
   "source": [
    "# Detect missing values. Return a boolean output\n",
    "italy_companies.isnull().sum().sort_values(ascending=False).head(5)"
   ]
  },
  {
   "cell_type": "code",
   "execution_count": 7,
   "metadata": {},
   "outputs": [
    {
     "data": {
      "text/html": [
       "<div>\n",
       "<style scoped>\n",
       "    .dataframe tbody tr th:only-of-type {\n",
       "        vertical-align: middle;\n",
       "    }\n",
       "\n",
       "    .dataframe tbody tr th {\n",
       "        vertical-align: top;\n",
       "    }\n",
       "\n",
       "    .dataframe thead th {\n",
       "        text-align: right;\n",
       "    }\n",
       "</style>\n",
       "<table border=\"1\" class=\"dataframe\">\n",
       "  <thead>\n",
       "    <tr style=\"text-align: right;\">\n",
       "      <th></th>\n",
       "      <th>Unnamed: 0</th>\n",
       "      <th>name</th>\n",
       "      <th>domain</th>\n",
       "      <th>year founded</th>\n",
       "      <th>industry</th>\n",
       "      <th>size range</th>\n",
       "      <th>locality</th>\n",
       "      <th>country</th>\n",
       "      <th>linkedin url</th>\n",
       "      <th>current employee estimate</th>\n",
       "      <th>total employee estimate</th>\n",
       "    </tr>\n",
       "  </thead>\n",
       "  <tbody>\n",
       "    <tr>\n",
       "      <th>368</th>\n",
       "      <td>3388682</td>\n",
       "      <td>saipem</td>\n",
       "      <td>saipem.com</td>\n",
       "      <td>1957.0</td>\n",
       "      <td>oil &amp; energy</td>\n",
       "      <td>10001+</td>\n",
       "      <td>san donato milanese, milan, italy</td>\n",
       "      <td>italy</td>\n",
       "      <td>linkedin.com/company/saipem</td>\n",
       "      <td>14858</td>\n",
       "      <td>33895</td>\n",
       "    </tr>\n",
       "    <tr>\n",
       "      <th>408</th>\n",
       "      <td>5150220</td>\n",
       "      <td>unicredit</td>\n",
       "      <td>unicreditgroup.eu</td>\n",
       "      <td>2014.0</td>\n",
       "      <td>banking</td>\n",
       "      <td>10001+</td>\n",
       "      <td>milano, lombardy, italy</td>\n",
       "      <td>italy</td>\n",
       "      <td>linkedin.com/company/unicredit</td>\n",
       "      <td>13933</td>\n",
       "      <td>25727</td>\n",
       "    </tr>\n",
       "  </tbody>\n",
       "</table>\n",
       "</div>"
      ],
      "text/plain": [
       "     Unnamed: 0       name             domain  year founded      industry  \\\n",
       "368     3388682     saipem         saipem.com        1957.0  oil & energy   \n",
       "408     5150220  unicredit  unicreditgroup.eu        2014.0       banking   \n",
       "\n",
       "    size range                           locality country  \\\n",
       "368     10001+  san donato milanese, milan, italy   italy   \n",
       "408     10001+            milano, lombardy, italy   italy   \n",
       "\n",
       "                       linkedin url  current employee estimate  \\\n",
       "368     linkedin.com/company/saipem                      14858   \n",
       "408  linkedin.com/company/unicredit                      13933   \n",
       "\n",
       "     total employee estimate  \n",
       "368                    33895  \n",
       "408                    25727  "
      ]
     },
     "execution_count": 7,
     "metadata": {},
     "output_type": "execute_result"
    }
   ],
   "source": [
    "italy_companies.head(2)"
   ]
  },
  {
   "cell_type": "code",
   "execution_count": 8,
   "metadata": {},
   "outputs": [
    {
     "data": {
      "text/plain": [
       "milano, lombardy, italy           11699\n",
       "rome, lazio, italy                 7746\n",
       "torino, piedmont, italy            3495\n",
       "genoa, liguria, italy              2981\n",
       "bologna, emilia-romagna, italy     2754\n",
       "Name: locality, dtype: int64"
      ]
     },
     "execution_count": 8,
     "metadata": {},
     "output_type": "execute_result"
    }
   ],
   "source": [
    "# miro los attributos localidad.La mayoria de las empresas está en Milan.\n",
    "# No solo es el total de las empresas a ser mayor, si no que allí hay las empresas mas importantes,\n",
    "# las que tienen un numero de empleados mayor.\n",
    "# Así decido quedarme con la ciudad de Milan\n",
    "italy_companies['locality'].value_counts().head(5)"
   ]
  },
  {
   "cell_type": "code",
   "execution_count": 9,
   "metadata": {},
   "outputs": [],
   "source": [
    "tamaño_empresas = italy_companies.sort_values(by= 'total employee estimate',ascending=False).head(100)"
   ]
  },
  {
   "cell_type": "code",
   "execution_count": 10,
   "metadata": {},
   "outputs": [
    {
     "name": "stdout",
     "output_type": "stream",
     "text": [
      "False    65\n",
      "True     35\n",
      "Name: locality, dtype: int64\n",
      "False    81\n",
      "True     19\n",
      "Name: locality, dtype: int64\n"
     ]
    }
   ],
   "source": [
    "print(tamaño_empresas['locality'].str.contains(pat = 'lombard').value_counts())\n",
    "print(tamaño_empresas['locality'].str.contains(pat = 'lazio').value_counts())"
   ]
  },
  {
   "cell_type": "code",
   "execution_count": 11,
   "metadata": {},
   "outputs": [
    {
     "name": "stderr",
     "output_type": "stream",
     "text": [
      "/home/must4in3/anaconda3/lib/python3.7/site-packages/ipykernel_launcher.py:2: SettingWithCopyWarning: \n",
      "A value is trying to be set on a copy of a slice from a DataFrame.\n",
      "Try using .loc[row_indexer,col_indexer] = value instead\n",
      "\n",
      "See the caveats in the documentation: https://pandas.pydata.org/pandas-docs/stable/user_guide/indexing.html#returning-a-view-versus-a-copy\n",
      "  \n"
     ]
    }
   ],
   "source": [
    "# Find the NaN values and change them\n",
    "italy_companies['locality'] = italy_companies['locality'].fillna('No Values')\n",
    "milan_companies = italy_companies[italy_companies['locality'].str.contains(pat = 'milan')]"
   ]
  },
  {
   "cell_type": "code",
   "execution_count": 12,
   "metadata": {},
   "outputs": [
    {
     "data": {
      "text/html": [
       "<div>\n",
       "<style scoped>\n",
       "    .dataframe tbody tr th:only-of-type {\n",
       "        vertical-align: middle;\n",
       "    }\n",
       "\n",
       "    .dataframe tbody tr th {\n",
       "        vertical-align: top;\n",
       "    }\n",
       "\n",
       "    .dataframe thead th {\n",
       "        text-align: right;\n",
       "    }\n",
       "</style>\n",
       "<table border=\"1\" class=\"dataframe\">\n",
       "  <thead>\n",
       "    <tr style=\"text-align: right;\">\n",
       "      <th></th>\n",
       "      <th>Unnamed: 0</th>\n",
       "      <th>name</th>\n",
       "      <th>domain</th>\n",
       "      <th>year founded</th>\n",
       "      <th>industry</th>\n",
       "      <th>size range</th>\n",
       "      <th>locality</th>\n",
       "      <th>country</th>\n",
       "      <th>linkedin url</th>\n",
       "      <th>current employee estimate</th>\n",
       "      <th>total employee estimate</th>\n",
       "    </tr>\n",
       "  </thead>\n",
       "  <tbody>\n",
       "    <tr>\n",
       "      <th>368</th>\n",
       "      <td>3388682</td>\n",
       "      <td>saipem</td>\n",
       "      <td>saipem.com</td>\n",
       "      <td>1957.0</td>\n",
       "      <td>oil &amp; energy</td>\n",
       "      <td>10001+</td>\n",
       "      <td>san donato milanese, milan, italy</td>\n",
       "      <td>italy</td>\n",
       "      <td>linkedin.com/company/saipem</td>\n",
       "      <td>14858</td>\n",
       "      <td>33895</td>\n",
       "    </tr>\n",
       "    <tr>\n",
       "      <th>408</th>\n",
       "      <td>5150220</td>\n",
       "      <td>unicredit</td>\n",
       "      <td>unicreditgroup.eu</td>\n",
       "      <td>2014.0</td>\n",
       "      <td>banking</td>\n",
       "      <td>10001+</td>\n",
       "      <td>milano, lombardy, italy</td>\n",
       "      <td>italy</td>\n",
       "      <td>linkedin.com/company/unicredit</td>\n",
       "      <td>13933</td>\n",
       "      <td>25727</td>\n",
       "    </tr>\n",
       "  </tbody>\n",
       "</table>\n",
       "</div>"
      ],
      "text/plain": [
       "     Unnamed: 0       name             domain  year founded      industry  \\\n",
       "368     3388682     saipem         saipem.com        1957.0  oil & energy   \n",
       "408     5150220  unicredit  unicreditgroup.eu        2014.0       banking   \n",
       "\n",
       "    size range                           locality country  \\\n",
       "368     10001+  san donato milanese, milan, italy   italy   \n",
       "408     10001+            milano, lombardy, italy   italy   \n",
       "\n",
       "                       linkedin url  current employee estimate  \\\n",
       "368     linkedin.com/company/saipem                      14858   \n",
       "408  linkedin.com/company/unicredit                      13933   \n",
       "\n",
       "     total employee estimate  \n",
       "368                    33895  \n",
       "408                    25727  "
      ]
     },
     "execution_count": 12,
     "metadata": {},
     "output_type": "execute_result"
    }
   ],
   "source": [
    "milan_companies.head(2)"
   ]
  },
  {
   "cell_type": "code",
   "execution_count": 13,
   "metadata": {},
   "outputs": [
    {
     "data": {
      "text/plain": [
       "information technology and services    1317\n",
       "marketing and advertising              1285\n",
       "management consulting                   865\n",
       "internet                                549\n",
       "design                                  400\n",
       "Name: industry, dtype: int64"
      ]
     },
     "execution_count": 13,
     "metadata": {},
     "output_type": "execute_result"
    }
   ],
   "source": [
    "milan_companies['industry'].value_counts().head(5)"
   ]
  },
  {
   "cell_type": "markdown",
   "metadata": {},
   "source": [
    "# 1 - Design Companies in Milan. API foursquare"
   ]
  },
  {
   "cell_type": "code",
   "execution_count": 14,
   "metadata": {},
   "outputs": [],
   "source": [
    "design_companies = milan_companies[milan_companies.industry == 'design']"
   ]
  },
  {
   "cell_type": "code",
   "execution_count": 15,
   "metadata": {},
   "outputs": [
    {
     "data": {
      "text/html": [
       "<div>\n",
       "<style scoped>\n",
       "    .dataframe tbody tr th:only-of-type {\n",
       "        vertical-align: middle;\n",
       "    }\n",
       "\n",
       "    .dataframe tbody tr th {\n",
       "        vertical-align: top;\n",
       "    }\n",
       "\n",
       "    .dataframe thead th {\n",
       "        text-align: right;\n",
       "    }\n",
       "</style>\n",
       "<table border=\"1\" class=\"dataframe\">\n",
       "  <thead>\n",
       "    <tr style=\"text-align: right;\">\n",
       "      <th></th>\n",
       "      <th>Unnamed: 0</th>\n",
       "      <th>name</th>\n",
       "      <th>domain</th>\n",
       "      <th>year founded</th>\n",
       "      <th>industry</th>\n",
       "      <th>size range</th>\n",
       "      <th>locality</th>\n",
       "      <th>country</th>\n",
       "      <th>linkedin url</th>\n",
       "      <th>current employee estimate</th>\n",
       "      <th>total employee estimate</th>\n",
       "    </tr>\n",
       "  </thead>\n",
       "  <tbody>\n",
       "    <tr>\n",
       "      <th>34487</th>\n",
       "      <td>4926474</td>\n",
       "      <td>naba nuova accademia di belle arti</td>\n",
       "      <td>naba.it</td>\n",
       "      <td>1980.0</td>\n",
       "      <td>design</td>\n",
       "      <td>1001 - 5000</td>\n",
       "      <td>milan, lombardy, italy</td>\n",
       "      <td>italy</td>\n",
       "      <td>linkedin.com/company/naba-nuova-accademia-di-b...</td>\n",
       "      <td>339</td>\n",
       "      <td>969</td>\n",
       "    </tr>\n",
       "    <tr>\n",
       "      <th>55395</th>\n",
       "      <td>4000697</td>\n",
       "      <td>artemide</td>\n",
       "      <td>artemide.com</td>\n",
       "      <td>1960.0</td>\n",
       "      <td>design</td>\n",
       "      <td>501 - 1000</td>\n",
       "      <td>milano, lombardy, italy</td>\n",
       "      <td>italy</td>\n",
       "      <td>linkedin.com/company/artemide</td>\n",
       "      <td>208</td>\n",
       "      <td>616</td>\n",
       "    </tr>\n",
       "  </tbody>\n",
       "</table>\n",
       "</div>"
      ],
      "text/plain": [
       "       Unnamed: 0                                name        domain  \\\n",
       "34487     4926474  naba nuova accademia di belle arti       naba.it   \n",
       "55395     4000697                            artemide  artemide.com   \n",
       "\n",
       "       year founded industry   size range                 locality country  \\\n",
       "34487        1980.0   design  1001 - 5000   milan, lombardy, italy   italy   \n",
       "55395        1960.0   design   501 - 1000  milano, lombardy, italy   italy   \n",
       "\n",
       "                                            linkedin url  \\\n",
       "34487  linkedin.com/company/naba-nuova-accademia-di-b...   \n",
       "55395                      linkedin.com/company/artemide   \n",
       "\n",
       "       current employee estimate  total employee estimate  \n",
       "34487                        339                      969  \n",
       "55395                        208                      616  "
      ]
     },
     "execution_count": 15,
     "metadata": {},
     "output_type": "execute_result"
    }
   ],
   "source": [
    "design_companies.head(2)"
   ]
  },
  {
   "cell_type": "code",
   "execution_count": 16,
   "metadata": {},
   "outputs": [
    {
     "name": "stdout",
     "output_type": "stream",
     "text": [
      "CPU times: user 18.4 s, sys: 378 ms, total: 18.7 s\n",
      "Wall time: 4min 14s\n"
     ]
    }
   ],
   "source": [
    "%%time\n",
    "# de las compañias de design me falta la direccíon y la geolocalizacíon.\n",
    "# a traves de un bucle for y la API foursquare hago diferentes requests por cada compañia en la tabla anterior,\n",
    "# con el fin de incontrár la informacíon que necesito.\n",
    "# voy a llamar la funcion <getFromFoursquare>\n",
    "design_companies_location = getFromFoursquare(design_companies)"
   ]
  },
  {
   "cell_type": "code",
   "execution_count": 17,
   "metadata": {},
   "outputs": [],
   "source": [
    "# creo la nueva design_company_table, con el nombre y la geolocalizacíon\n",
    "design_company_table = pd.DataFrame(design_companies_location)"
   ]
  },
  {
   "cell_type": "code",
   "execution_count": 18,
   "metadata": {},
   "outputs": [
    {
     "data": {
      "text/html": [
       "<div>\n",
       "<style scoped>\n",
       "    .dataframe tbody tr th:only-of-type {\n",
       "        vertical-align: middle;\n",
       "    }\n",
       "\n",
       "    .dataframe tbody tr th {\n",
       "        vertical-align: top;\n",
       "    }\n",
       "\n",
       "    .dataframe thead th {\n",
       "        text-align: right;\n",
       "    }\n",
       "</style>\n",
       "<table border=\"1\" class=\"dataframe\">\n",
       "  <thead>\n",
       "    <tr style=\"text-align: right;\">\n",
       "      <th></th>\n",
       "      <th>name</th>\n",
       "      <th>location</th>\n",
       "    </tr>\n",
       "  </thead>\n",
       "  <tbody>\n",
       "    <tr>\n",
       "      <th>0</th>\n",
       "      <td>NABA Nuova Accademia di Belle Arti</td>\n",
       "      <td>{'address': 'Via Carlo Darwin 20', 'lat': 45.4...</td>\n",
       "    </tr>\n",
       "    <tr>\n",
       "      <th>1</th>\n",
       "      <td>Showroom Artemide</td>\n",
       "      <td>{'address': 'Via Manzoni 12', 'lat': 45.463335...</td>\n",
       "    </tr>\n",
       "  </tbody>\n",
       "</table>\n",
       "</div>"
      ],
      "text/plain": [
       "                                 name  \\\n",
       "0  NABA Nuova Accademia di Belle Arti   \n",
       "1                   Showroom Artemide   \n",
       "\n",
       "                                            location  \n",
       "0  {'address': 'Via Carlo Darwin 20', 'lat': 45.4...  \n",
       "1  {'address': 'Via Manzoni 12', 'lat': 45.463335...  "
      ]
     },
     "execution_count": 18,
     "metadata": {},
     "output_type": "execute_result"
    }
   ],
   "source": [
    "design_company_table.head(2)"
   ]
  },
  {
   "cell_type": "code",
   "execution_count": 19,
   "metadata": {},
   "outputs": [],
   "source": [
    "# separo la columna location en subcolumnas para recuperar latitude y longitude\n",
    "# el procedimiento es necesario para luego importar los datos en MongoDB.\n",
    "geo_design_company = pd.DataFrame(design_company_table.location.apply(pd.Series))"
   ]
  },
  {
   "cell_type": "code",
   "execution_count": 20,
   "metadata": {},
   "outputs": [
    {
     "data": {
      "text/html": [
       "<div>\n",
       "<style scoped>\n",
       "    .dataframe tbody tr th:only-of-type {\n",
       "        vertical-align: middle;\n",
       "    }\n",
       "\n",
       "    .dataframe tbody tr th {\n",
       "        vertical-align: top;\n",
       "    }\n",
       "\n",
       "    .dataframe thead th {\n",
       "        text-align: right;\n",
       "    }\n",
       "</style>\n",
       "<table border=\"1\" class=\"dataframe\">\n",
       "  <thead>\n",
       "    <tr style=\"text-align: right;\">\n",
       "      <th></th>\n",
       "      <th>name</th>\n",
       "      <th>address</th>\n",
       "      <th>lat</th>\n",
       "      <th>lng</th>\n",
       "    </tr>\n",
       "  </thead>\n",
       "  <tbody>\n",
       "    <tr>\n",
       "      <th>0</th>\n",
       "      <td>NABA Nuova Accademia di Belle Arti</td>\n",
       "      <td>Via Carlo Darwin 20</td>\n",
       "      <td>45.445545</td>\n",
       "      <td>9.174399</td>\n",
       "    </tr>\n",
       "    <tr>\n",
       "      <th>1</th>\n",
       "      <td>Showroom Artemide</td>\n",
       "      <td>Via Manzoni 12</td>\n",
       "      <td>45.463336</td>\n",
       "      <td>9.187874</td>\n",
       "    </tr>\n",
       "  </tbody>\n",
       "</table>\n",
       "</div>"
      ],
      "text/plain": [
       "                                 name              address        lat  \\\n",
       "0  NABA Nuova Accademia di Belle Arti  Via Carlo Darwin 20  45.445545   \n",
       "1                   Showroom Artemide       Via Manzoni 12  45.463336   \n",
       "\n",
       "        lng  \n",
       "0  9.174399  \n",
       "1  9.187874  "
      ]
     },
     "execution_count": 20,
     "metadata": {},
     "output_type": "execute_result"
    }
   ],
   "source": [
    "# design companies table limpia lista para la transformacíon en GeoPoint\n",
    "clean_design_company = pd.concat([design_company_table[\"name\"], geo_design_company[['address','lat','lng']]], axis=1)\n",
    "clean_design_company.head(2)"
   ]
  },
  {
   "cell_type": "code",
   "execution_count": 21,
   "metadata": {},
   "outputs": [
    {
     "data": {
      "text/html": [
       "<div>\n",
       "<style scoped>\n",
       "    .dataframe tbody tr th:only-of-type {\n",
       "        vertical-align: middle;\n",
       "    }\n",
       "\n",
       "    .dataframe tbody tr th {\n",
       "        vertical-align: top;\n",
       "    }\n",
       "\n",
       "    .dataframe thead th {\n",
       "        text-align: right;\n",
       "    }\n",
       "</style>\n",
       "<table border=\"1\" class=\"dataframe\">\n",
       "  <thead>\n",
       "    <tr style=\"text-align: right;\">\n",
       "      <th></th>\n",
       "      <th>name</th>\n",
       "      <th>address</th>\n",
       "      <th>LAT_WGS84</th>\n",
       "      <th>LONG_WGS84</th>\n",
       "    </tr>\n",
       "  </thead>\n",
       "  <tbody>\n",
       "    <tr>\n",
       "      <th>0</th>\n",
       "      <td>NABA Nuova Accademia di Belle Arti</td>\n",
       "      <td>Via Carlo Darwin 20</td>\n",
       "      <td>45.445545</td>\n",
       "      <td>9.174399</td>\n",
       "    </tr>\n",
       "    <tr>\n",
       "      <th>1</th>\n",
       "      <td>Showroom Artemide</td>\n",
       "      <td>Via Manzoni 12</td>\n",
       "      <td>45.463336</td>\n",
       "      <td>9.187874</td>\n",
       "    </tr>\n",
       "  </tbody>\n",
       "</table>\n",
       "</div>"
      ],
      "text/plain": [
       "                                 name              address  LAT_WGS84  \\\n",
       "0  NABA Nuova Accademia di Belle Arti  Via Carlo Darwin 20  45.445545   \n",
       "1                   Showroom Artemide       Via Manzoni 12  45.463336   \n",
       "\n",
       "   LONG_WGS84  \n",
       "0    9.174399  \n",
       "1    9.187874  "
      ]
     },
     "execution_count": 21,
     "metadata": {},
     "output_type": "execute_result"
    }
   ],
   "source": [
    "clean_design_company= clean_design_company.rename(columns={\"lat\": \"LAT_WGS84\", \"lng\": \"LONG_WGS84\"})\n",
    "clean_design_company.head(2)"
   ]
  },
  {
   "cell_type": "code",
   "execution_count": 23,
   "metadata": {},
   "outputs": [
    {
     "data": {
      "text/html": [
       "<div>\n",
       "<style scoped>\n",
       "    .dataframe tbody tr th:only-of-type {\n",
       "        vertical-align: middle;\n",
       "    }\n",
       "\n",
       "    .dataframe tbody tr th {\n",
       "        vertical-align: top;\n",
       "    }\n",
       "\n",
       "    .dataframe thead th {\n",
       "        text-align: right;\n",
       "    }\n",
       "</style>\n",
       "<table border=\"1\" class=\"dataframe\">\n",
       "  <thead>\n",
       "    <tr style=\"text-align: right;\">\n",
       "      <th></th>\n",
       "      <th>name</th>\n",
       "      <th>address</th>\n",
       "      <th>LAT_WGS84</th>\n",
       "      <th>LONG_WGS84</th>\n",
       "      <th>geopoint</th>\n",
       "    </tr>\n",
       "  </thead>\n",
       "  <tbody>\n",
       "    <tr>\n",
       "      <th>0</th>\n",
       "      <td>NABA Nuova Accademia di Belle Arti</td>\n",
       "      <td>Via Carlo Darwin 20</td>\n",
       "      <td>45.445545</td>\n",
       "      <td>9.174399</td>\n",
       "      <td>{'type': 'Point', 'coordinates': [9.1743993759...</td>\n",
       "    </tr>\n",
       "    <tr>\n",
       "      <th>1</th>\n",
       "      <td>Showroom Artemide</td>\n",
       "      <td>Via Manzoni 12</td>\n",
       "      <td>45.463336</td>\n",
       "      <td>9.187874</td>\n",
       "      <td>{'type': 'Point', 'coordinates': [9.1878736515...</td>\n",
       "    </tr>\n",
       "  </tbody>\n",
       "</table>\n",
       "</div>"
      ],
      "text/plain": [
       "                                 name              address  LAT_WGS84  \\\n",
       "0  NABA Nuova Accademia di Belle Arti  Via Carlo Darwin 20  45.445545   \n",
       "1                   Showroom Artemide       Via Manzoni 12  45.463336   \n",
       "\n",
       "   LONG_WGS84                                           geopoint  \n",
       "0    9.174399  {'type': 'Point', 'coordinates': [9.1743993759...  \n",
       "1    9.187874  {'type': 'Point', 'coordinates': [9.1878736515...  "
      ]
     },
     "execution_count": 23,
     "metadata": {},
     "output_type": "execute_result"
    }
   ],
   "source": [
    "# para poder lanzar queries en MongoDB se necesita este formato \n",
    "# <field>: { type: \"Point\", coordinates: [ long, lat ] }\n",
    "# por eso llamo la funcion <transformToGeoPoint as tg> y creo una nueva columna en la tabla\n",
    "clean_design_company[\"geopoint\"] = clean_design_company.apply(tg, axis=1)\n",
    "clean_design_company.head(2)"
   ]
  },
  {
   "cell_type": "code",
   "execution_count": 24,
   "metadata": {},
   "outputs": [],
   "source": [
    "# Export as json records to import with mongoimport \n",
    "clean_design_company.to_json(\"output/design_company.json\",orient=\"records\")\n",
    "# mongoimport -d datamad0620 -c offices --jsonArray offices.json"
   ]
  },
  {
   "cell_type": "markdown",
   "metadata": {},
   "source": [
    "# 2- Starbucks from Selenium"
   ]
  },
  {
   "cell_type": "code",
   "execution_count": 26,
   "metadata": {},
   "outputs": [
    {
     "name": "stderr",
     "output_type": "stream",
     "text": [
      "[WDM] - Current google-chrome version is 81.0.4044\n",
      "[WDM] - Get LATEST driver version for 81.0.4044\n"
     ]
    },
    {
     "name": "stdout",
     "output_type": "stream",
     "text": [
      " \n"
     ]
    },
    {
     "name": "stderr",
     "output_type": "stream",
     "text": [
      "[WDM] - Driver [/home/must4in3/.wdm/drivers/chromedriver/linux64/81.0.4044.138/chromedriver] found in cache\n"
     ]
    }
   ],
   "source": [
    "# https://www.starbucks.it/store-locator/search/location/milano\n",
    "# Web Scraping utilizando Selenium porque el solo BeautifulSoup no permite cargar toda la pagina.\n",
    "# Voy a llamar la funcion <getPage> para enviar la requests a la pagina oficíal de Starbucks italia\n",
    "soup = getPage(\"https://www.starbucks.it/store-locator/search/location/milano\")"
   ]
  },
  {
   "cell_type": "code",
   "execution_count": 27,
   "metadata": {},
   "outputs": [],
   "source": [
    "# utilizando los selectores consiguo sacar el nombre de cada Starbucks y la direccíon, y el zip me permite juntar\n",
    "# las dos informacíones\n",
    "name_starbucks = [x.text for x in soup.select(\".store-name\")]\n",
    "address_starbucks = [' '.join(x.text.split()) for x in soup.select(\".address\")]\n",
    "merge_starbucks = list(zip(name_starbucks, address_starbucks))"
   ]
  },
  {
   "cell_type": "code",
   "execution_count": 28,
   "metadata": {},
   "outputs": [],
   "source": [
    "# con un bucle for creo el dictionario y la tabla de los Starbucks de Milano\n",
    "dict_starbucks = []\n",
    "for starbucks in merge_starbucks:\n",
    "    dict_starbucks.append({'name': starbucks[0], 'location': starbucks[1]})\n",
    "starbucks_table = pd.DataFrame(dict_starbucks)"
   ]
  },
  {
   "cell_type": "code",
   "execution_count": 29,
   "metadata": {},
   "outputs": [
    {
     "data": {
      "text/html": [
       "<div>\n",
       "<style scoped>\n",
       "    .dataframe tbody tr th:only-of-type {\n",
       "        vertical-align: middle;\n",
       "    }\n",
       "\n",
       "    .dataframe tbody tr th {\n",
       "        vertical-align: top;\n",
       "    }\n",
       "\n",
       "    .dataframe thead th {\n",
       "        text-align: right;\n",
       "    }\n",
       "</style>\n",
       "<table border=\"1\" class=\"dataframe\">\n",
       "  <thead>\n",
       "    <tr style=\"text-align: right;\">\n",
       "      <th></th>\n",
       "      <th>name</th>\n",
       "      <th>location</th>\n",
       "    </tr>\n",
       "  </thead>\n",
       "  <tbody>\n",
       "    <tr>\n",
       "      <th>0</th>\n",
       "      <td>Milan Roastery</td>\n",
       "      <td>Piazza Cordusio 3 Milan 20123</td>\n",
       "    </tr>\n",
       "    <tr>\n",
       "      <th>1</th>\n",
       "      <td>Starbucks Porta Romana</td>\n",
       "      <td>Via Lentasio, 1 angolo Corso di Porta Romana M...</td>\n",
       "    </tr>\n",
       "  </tbody>\n",
       "</table>\n",
       "</div>"
      ],
      "text/plain": [
       "                     name                                           location\n",
       "0          Milan Roastery                      Piazza Cordusio 3 Milan 20123\n",
       "1  Starbucks Porta Romana  Via Lentasio, 1 angolo Corso di Porta Romana M..."
      ]
     },
     "execution_count": 29,
     "metadata": {},
     "output_type": "execute_result"
    }
   ],
   "source": [
    "starbucks_table.head(2)"
   ]
  },
  {
   "cell_type": "code",
   "execution_count": 31,
   "metadata": {},
   "outputs": [
    {
     "name": "stdout",
     "output_type": "stream",
     "text": [
      "CPU times: user 291 ms, sys: 15.7 ms, total: 306 ms\n",
      "Wall time: 19.1 s\n"
     ]
    }
   ],
   "source": [
    "%%time\n",
    "# llamo la funcion geocode porque necesito añadir en la tabla las infos de lat y long\n",
    "#documentación en los siguientes enlaces -> https://geojson.io/#map=16/40.3959/-3.7039 ; https://geojson.org/\n",
    "starbucks_geo = geocode(starbucks_table['location'])"
   ]
  },
  {
   "cell_type": "code",
   "execution_count": 32,
   "metadata": {},
   "outputs": [
    {
     "name": "stdout",
     "output_type": "stream",
     "text": [
      "[{'type': 'Point', 'coordinates': [9.1862, 45.46496]}, {'type': 'Point', 'coordinates': [9.19167, 45.45844]}, {'type': 'Point', 'coordinates': [9.19836, 45.46563]}, {'type': 'Point', 'coordinates': [9.1949, 45.47478]}, {'type': 'Point', 'coordinates': [9.18336, 45.47405]}, {'type': 'Point', 'coordinates': [9.16487, 45.46626]}, {'type': 'Point', 'coordinates': [9.20784, 45.48631]}, {'type': 'Point', 'coordinates': [9.15274, 45.40453]}, {'type': 'Point', 'coordinates': [9.11615, 45.52215]}]\n"
     ]
    }
   ],
   "source": [
    "print(starbucks_geo)"
   ]
  },
  {
   "cell_type": "code",
   "execution_count": 33,
   "metadata": {},
   "outputs": [],
   "source": [
    "# con assign cada valor de la lista se va asignando a la nueva columna geopoint en la starbucks_table\n",
    "starbucks_table = starbucks_table.assign(geopoint=starbucks_geo)"
   ]
  },
  {
   "cell_type": "code",
   "execution_count": 85,
   "metadata": {},
   "outputs": [],
   "source": [
    "# Export as json records to import with mongoimport \n",
    "starbucks_table.to_json(\"output/starbucks_table.json\",orient=\"records\")\n",
    "# mongoimport -d datamad0620 -c offices --jsonArray offices.json"
   ]
  },
  {
   "cell_type": "code",
   "execution_count": 35,
   "metadata": {},
   "outputs": [],
   "source": [
    "# METODOLOGIA ALTERNATIVA"
   ]
  },
  {
   "cell_type": "code",
   "execution_count": 36,
   "metadata": {},
   "outputs": [],
   "source": [
    "#client_id = os.getenv(\"CLIENT_ID\")\n",
    "#client_secret = os.getenv(\"CLIENT_SECRET\")"
   ]
  },
  {
   "cell_type": "code",
   "execution_count": 37,
   "metadata": {},
   "outputs": [],
   "source": [
    "## enviar una request. Si sale un numero que empieza con 2 todo bien, \n",
    "## o si no ver los errores de los gatos a ver que dicen!\n",
    "#url = f'https://api.foursquare.com/v2/venues/search?near=milan&query=Starbucks&client_id={client_id}&client_secret={client_secret}&v=20181101'\n",
    "#res = requests.get(url)\n",
    "#starbucks= res.json()\n",
    "## del requests seleciono solo la key venues dentro response\n",
    "#starbucks['response']['venues']\n",
    "## leer infos read_json leer documentacíon"
   ]
  },
  {
   "cell_type": "code",
   "execution_count": 38,
   "metadata": {},
   "outputs": [],
   "source": [
    "## dataframe de los starbucks in Milan\n",
    "#table_starbucks = pd.DataFrame((starbucks['response']['venues'])) #read json\n",
    "#table_starbucks.head(3)"
   ]
  },
  {
   "cell_type": "code",
   "execution_count": 39,
   "metadata": {},
   "outputs": [],
   "source": [
    "## elimino la unica row que no tenga Starbucks\n",
    "#table_starbucks = table_starbucks[table_starbucks['name'].str.contains(pat = 'Starbucks')]\n",
    "## separo la columna location en subcolumnas para recuperar latitude y longitude\n",
    "#geo_starbucks = pd.DataFrame(table_starbucks.location.apply(pd.Series))"
   ]
  },
  {
   "cell_type": "code",
   "execution_count": 40,
   "metadata": {},
   "outputs": [],
   "source": [
    "## starbucks table limpia lista para la transformacíon en GeoPoint\n",
    "#clean_starbucks = pd.concat([table_starbucks[\"name\"], geo_starbucks[['address','lat','lng']]], axis=1)\n",
    "#clean_starbucks"
   ]
  },
  {
   "cell_type": "code",
   "execution_count": 41,
   "metadata": {},
   "outputs": [],
   "source": [
    "## para poder hacer query en MongoDB se necesita este formato \n",
    "## <field>: { type: <GeoJSON type> , coordinates: <coordinates> }\n",
    "## por eso llamo la funcion transformToGeoPoint\n",
    "#clean_starbucks[\"geopoint\"] = clean_starbucks.apply(transformToGeoPoint, axis=1)\n",
    "#clean_starbucks"
   ]
  },
  {
   "cell_type": "code",
   "execution_count": 42,
   "metadata": {},
   "outputs": [],
   "source": [
    "## Convert objectIds to string to be able to export as JSON \n",
    "#clean_starbucks[\"geopoint\"] = clean_starbucks[\"geopoint\"].apply(lambda e: str(e))\n",
    "## Export as json records to import with mongoimport \n",
    "#clean_starbucks.to_json(\"output/starbucks.json\",orient=\"records\")\n",
    "## mongoimport -d datamad0620 -c offices --jsonArray offices.json"
   ]
  },
  {
   "cell_type": "markdown",
   "metadata": {},
   "source": [
    "# 3 - Sitios para diversión de los empleados"
   ]
  },
  {
   "cell_type": "code",
   "execution_count": 43,
   "metadata": {},
   "outputs": [],
   "source": [
    "#https://dati.comune.milano.it/dataset/ds252-economia-locali-pubblico-spettacolo"
   ]
  },
  {
   "cell_type": "code",
   "execution_count": 44,
   "metadata": {},
   "outputs": [],
   "source": [
    "dbName = \"Italian_Companies\"\n",
    "mongodbURL = f\"mongodb://localhost/{dbName}\"\n",
    "client = MongoClient(mongodbURL, connectTimeoutMS=2000, serverSelectionTimeoutMS=2000)\n",
    "db = client.get_database()"
   ]
  },
  {
   "cell_type": "code",
   "execution_count": 45,
   "metadata": {},
   "outputs": [],
   "source": [
    "cur = db.Italian_Companies.find({\"insegna\":{'$ne':None}},{\"insegna\":1,\"_id\":0, \"LAT_WGS84\":1, \"LONG_WGS84\":1})"
   ]
  },
  {
   "cell_type": "code",
   "execution_count": 46,
   "metadata": {},
   "outputs": [],
   "source": [
    "data = list(cur)"
   ]
  },
  {
   "cell_type": "code",
   "execution_count": 47,
   "metadata": {},
   "outputs": [
    {
     "data": {
      "text/html": [
       "<div>\n",
       "<style scoped>\n",
       "    .dataframe tbody tr th:only-of-type {\n",
       "        vertical-align: middle;\n",
       "    }\n",
       "\n",
       "    .dataframe tbody tr th {\n",
       "        vertical-align: top;\n",
       "    }\n",
       "\n",
       "    .dataframe thead th {\n",
       "        text-align: right;\n",
       "    }\n",
       "</style>\n",
       "<table border=\"1\" class=\"dataframe\">\n",
       "  <thead>\n",
       "    <tr style=\"text-align: right;\">\n",
       "      <th></th>\n",
       "      <th>insegna</th>\n",
       "      <th>LONG_WGS84</th>\n",
       "      <th>LAT_WGS84</th>\n",
       "    </tr>\n",
       "  </thead>\n",
       "  <tbody>\n",
       "    <tr>\n",
       "      <th>0</th>\n",
       "      <td>PERSEFONE</td>\n",
       "      <td>9.17573102533</td>\n",
       "      <td>45.4966580754</td>\n",
       "    </tr>\n",
       "    <tr>\n",
       "      <th>1</th>\n",
       "      <td>MAF CAFFE'</td>\n",
       "      <td>9.18734461471</td>\n",
       "      <td>45.4815798192</td>\n",
       "    </tr>\n",
       "  </tbody>\n",
       "</table>\n",
       "</div>"
      ],
      "text/plain": [
       "      insegna     LONG_WGS84      LAT_WGS84\n",
       "0   PERSEFONE  9.17573102533  45.4966580754\n",
       "1  MAF CAFFE'  9.18734461471  45.4815798192"
      ]
     },
     "execution_count": 47,
     "metadata": {},
     "output_type": "execute_result"
    }
   ],
   "source": [
    "sitios_para_diversion = pd.DataFrame(data)\n",
    "sitios_para_diversion.head(2)"
   ]
  },
  {
   "cell_type": "code",
   "execution_count": 49,
   "metadata": {},
   "outputs": [],
   "source": [
    "## para poder hacer query en MongoDB se necesita este formato \n",
    "## <field>: { type: <GeoJSON type> , coordinates: <coordinates> }\n",
    "## por eso llamo la funcion transformToGeoPoint\n",
    "sitios_para_diversion[\"geopoint\"] = sitios_para_diversion.apply(tg, axis=1)"
   ]
  },
  {
   "cell_type": "code",
   "execution_count": 50,
   "metadata": {},
   "outputs": [
    {
     "data": {
      "text/html": [
       "<div>\n",
       "<style scoped>\n",
       "    .dataframe tbody tr th:only-of-type {\n",
       "        vertical-align: middle;\n",
       "    }\n",
       "\n",
       "    .dataframe tbody tr th {\n",
       "        vertical-align: top;\n",
       "    }\n",
       "\n",
       "    .dataframe thead th {\n",
       "        text-align: right;\n",
       "    }\n",
       "</style>\n",
       "<table border=\"1\" class=\"dataframe\">\n",
       "  <thead>\n",
       "    <tr style=\"text-align: right;\">\n",
       "      <th></th>\n",
       "      <th>insegna</th>\n",
       "      <th>LONG_WGS84</th>\n",
       "      <th>LAT_WGS84</th>\n",
       "      <th>geopoint</th>\n",
       "    </tr>\n",
       "  </thead>\n",
       "  <tbody>\n",
       "    <tr>\n",
       "      <th>0</th>\n",
       "      <td>PERSEFONE</td>\n",
       "      <td>9.17573102533</td>\n",
       "      <td>45.4966580754</td>\n",
       "      <td>{'type': 'Point', 'coordinates': ['9.175731025...</td>\n",
       "    </tr>\n",
       "    <tr>\n",
       "      <th>1</th>\n",
       "      <td>MAF CAFFE'</td>\n",
       "      <td>9.18734461471</td>\n",
       "      <td>45.4815798192</td>\n",
       "      <td>{'type': 'Point', 'coordinates': ['9.187344614...</td>\n",
       "    </tr>\n",
       "  </tbody>\n",
       "</table>\n",
       "</div>"
      ],
      "text/plain": [
       "      insegna     LONG_WGS84      LAT_WGS84  \\\n",
       "0   PERSEFONE  9.17573102533  45.4966580754   \n",
       "1  MAF CAFFE'  9.18734461471  45.4815798192   \n",
       "\n",
       "                                            geopoint  \n",
       "0  {'type': 'Point', 'coordinates': ['9.175731025...  \n",
       "1  {'type': 'Point', 'coordinates': ['9.187344614...  "
      ]
     },
     "execution_count": 50,
     "metadata": {},
     "output_type": "execute_result"
    }
   ],
   "source": [
    "sitios_para_diversion.head(2)"
   ]
  },
  {
   "cell_type": "code",
   "execution_count": 84,
   "metadata": {},
   "outputs": [],
   "source": [
    "# Export as json records to import with mongoimport \n",
    "sitios_para_diversion.to_json(\"output/sitios_para_diversion.json\",orient=\"records\")\n",
    "# mongoimport -d datamad0620 -c offices --jsonArray offices.json"
   ]
  },
  {
   "cell_type": "markdown",
   "metadata": {},
   "source": [
    "# 4 - Los aeropuertos en Milan"
   ]
  },
  {
   "cell_type": "code",
   "execution_count": 52,
   "metadata": {},
   "outputs": [],
   "source": [
    "# en Milan hay 2 aeropurtos principales, Milano Malpensa y Milano Linate. El tercero está situado en Bergamo,\n",
    "# 60 km fuera de Milan, y el ultimo, mucho mas pequeño, llamado aeropuerto di Bresso.  "
   ]
  },
  {
   "cell_type": "code",
   "execution_count": 53,
   "metadata": {},
   "outputs": [],
   "source": [
    "lugar = ['Milan']\n",
    "airport_category = '4bf58dd8d48988d1ed931735'\n",
    "Milan_coordinate = geocode(lugar)"
   ]
  },
  {
   "cell_type": "code",
   "execution_count": 54,
   "metadata": {},
   "outputs": [],
   "source": [
    "data = (getFromFoursquareCategory(airport_category, 60000, Milan_coordinate))"
   ]
  },
  {
   "cell_type": "code",
   "execution_count": 55,
   "metadata": {},
   "outputs": [],
   "source": [
    "aeropuertos_coord = limpiaRespFoursquareCategory(data)"
   ]
  },
  {
   "cell_type": "code",
   "execution_count": 56,
   "metadata": {},
   "outputs": [],
   "source": [
    "db_aeropuertos = pd.DataFrame(aeropuertos_coord)\n",
    "db_aeropuertos = db_aeropuertos[db_aeropuertos.name.str.contains(pat = 'Aeroporto')]"
   ]
  },
  {
   "cell_type": "code",
   "execution_count": 57,
   "metadata": {},
   "outputs": [
    {
     "data": {
      "text/html": [
       "<div>\n",
       "<style scoped>\n",
       "    .dataframe tbody tr th:only-of-type {\n",
       "        vertical-align: middle;\n",
       "    }\n",
       "\n",
       "    .dataframe tbody tr th {\n",
       "        vertical-align: top;\n",
       "    }\n",
       "\n",
       "    .dataframe thead th {\n",
       "        text-align: right;\n",
       "    }\n",
       "</style>\n",
       "<table border=\"1\" class=\"dataframe\">\n",
       "  <thead>\n",
       "    <tr style=\"text-align: right;\">\n",
       "      <th></th>\n",
       "      <th>name</th>\n",
       "      <th>location</th>\n",
       "    </tr>\n",
       "  </thead>\n",
       "  <tbody>\n",
       "    <tr>\n",
       "      <th>0</th>\n",
       "      <td>Aeroporto di Milano Linate (LIN) (Aeroporto di...</td>\n",
       "      <td>{'address': 'Viale Enrico Forlanini', 'lat': 4...</td>\n",
       "    </tr>\n",
       "    <tr>\n",
       "      <th>1</th>\n",
       "      <td>Aeroporto di Bresso (LIMB)</td>\n",
       "      <td>{'address': 'Via Antonio Gramsci 1', 'lat': 45...</td>\n",
       "    </tr>\n",
       "  </tbody>\n",
       "</table>\n",
       "</div>"
      ],
      "text/plain": [
       "                                                name  \\\n",
       "0  Aeroporto di Milano Linate (LIN) (Aeroporto di...   \n",
       "1                         Aeroporto di Bresso (LIMB)   \n",
       "\n",
       "                                            location  \n",
       "0  {'address': 'Viale Enrico Forlanini', 'lat': 4...  \n",
       "1  {'address': 'Via Antonio Gramsci 1', 'lat': 45...  "
      ]
     },
     "execution_count": 57,
     "metadata": {},
     "output_type": "execute_result"
    }
   ],
   "source": [
    "db_aeropuertos.head(2)"
   ]
  },
  {
   "cell_type": "code",
   "execution_count": 58,
   "metadata": {},
   "outputs": [],
   "source": [
    "geo_db_aeropuertos = pd.DataFrame(db_aeropuertos.location.apply(pd.Series))"
   ]
  },
  {
   "cell_type": "code",
   "execution_count": 59,
   "metadata": {},
   "outputs": [
    {
     "data": {
      "text/html": [
       "<div>\n",
       "<style scoped>\n",
       "    .dataframe tbody tr th:only-of-type {\n",
       "        vertical-align: middle;\n",
       "    }\n",
       "\n",
       "    .dataframe tbody tr th {\n",
       "        vertical-align: top;\n",
       "    }\n",
       "\n",
       "    .dataframe thead th {\n",
       "        text-align: right;\n",
       "    }\n",
       "</style>\n",
       "<table border=\"1\" class=\"dataframe\">\n",
       "  <thead>\n",
       "    <tr style=\"text-align: right;\">\n",
       "      <th></th>\n",
       "      <th>name</th>\n",
       "      <th>address</th>\n",
       "      <th>lat</th>\n",
       "      <th>lng</th>\n",
       "    </tr>\n",
       "  </thead>\n",
       "  <tbody>\n",
       "    <tr>\n",
       "      <th>0</th>\n",
       "      <td>Aeroporto di Milano Linate (LIN) (Aeroporto di...</td>\n",
       "      <td>Viale Enrico Forlanini</td>\n",
       "      <td>45.460409</td>\n",
       "      <td>9.279444</td>\n",
       "    </tr>\n",
       "    <tr>\n",
       "      <th>1</th>\n",
       "      <td>Aeroporto di Bresso (LIMB)</td>\n",
       "      <td>Via Antonio Gramsci 1</td>\n",
       "      <td>45.537930</td>\n",
       "      <td>9.198891</td>\n",
       "    </tr>\n",
       "    <tr>\n",
       "      <th>2</th>\n",
       "      <td>Aeroporto di Milano Malpensa (MXP) (Aeroporto ...</td>\n",
       "      <td>Superstrada Malpensa 2000</td>\n",
       "      <td>45.629810</td>\n",
       "      <td>8.717244</td>\n",
       "    </tr>\n",
       "  </tbody>\n",
       "</table>\n",
       "</div>"
      ],
      "text/plain": [
       "                                                name  \\\n",
       "0  Aeroporto di Milano Linate (LIN) (Aeroporto di...   \n",
       "1                         Aeroporto di Bresso (LIMB)   \n",
       "2  Aeroporto di Milano Malpensa (MXP) (Aeroporto ...   \n",
       "\n",
       "                     address        lat       lng  \n",
       "0     Viale Enrico Forlanini  45.460409  9.279444  \n",
       "1      Via Antonio Gramsci 1  45.537930  9.198891  \n",
       "2  Superstrada Malpensa 2000  45.629810  8.717244  "
      ]
     },
     "execution_count": 59,
     "metadata": {},
     "output_type": "execute_result"
    }
   ],
   "source": [
    "# aeropuertos table limpia lista para la transformacíon en GeoPoint\n",
    "clean_db_aeropuertos = pd.concat([db_aeropuertos[\"name\"], geo_db_aeropuertos[['address','lat','lng']]], axis=1)\n",
    "clean_db_aeropuertos.head(3)"
   ]
  },
  {
   "cell_type": "code",
   "execution_count": 60,
   "metadata": {},
   "outputs": [],
   "source": [
    "clean_db_aeropuertos= clean_db_aeropuertos.rename(columns={\"lat\": \"LAT_WGS84\", \"lng\": \"LONG_WGS84\"})"
   ]
  },
  {
   "cell_type": "code",
   "execution_count": 61,
   "metadata": {},
   "outputs": [
    {
     "data": {
      "text/html": [
       "<div>\n",
       "<style scoped>\n",
       "    .dataframe tbody tr th:only-of-type {\n",
       "        vertical-align: middle;\n",
       "    }\n",
       "\n",
       "    .dataframe tbody tr th {\n",
       "        vertical-align: top;\n",
       "    }\n",
       "\n",
       "    .dataframe thead th {\n",
       "        text-align: right;\n",
       "    }\n",
       "</style>\n",
       "<table border=\"1\" class=\"dataframe\">\n",
       "  <thead>\n",
       "    <tr style=\"text-align: right;\">\n",
       "      <th></th>\n",
       "      <th>name</th>\n",
       "      <th>address</th>\n",
       "      <th>LAT_WGS84</th>\n",
       "      <th>LONG_WGS84</th>\n",
       "    </tr>\n",
       "  </thead>\n",
       "  <tbody>\n",
       "    <tr>\n",
       "      <th>0</th>\n",
       "      <td>Aeroporto di Milano Linate (LIN) (Aeroporto di...</td>\n",
       "      <td>Viale Enrico Forlanini</td>\n",
       "      <td>45.460409</td>\n",
       "      <td>9.279444</td>\n",
       "    </tr>\n",
       "    <tr>\n",
       "      <th>1</th>\n",
       "      <td>Aeroporto di Bresso (LIMB)</td>\n",
       "      <td>Via Antonio Gramsci 1</td>\n",
       "      <td>45.537930</td>\n",
       "      <td>9.198891</td>\n",
       "    </tr>\n",
       "  </tbody>\n",
       "</table>\n",
       "</div>"
      ],
      "text/plain": [
       "                                                name                 address  \\\n",
       "0  Aeroporto di Milano Linate (LIN) (Aeroporto di...  Viale Enrico Forlanini   \n",
       "1                         Aeroporto di Bresso (LIMB)   Via Antonio Gramsci 1   \n",
       "\n",
       "   LAT_WGS84  LONG_WGS84  \n",
       "0  45.460409    9.279444  \n",
       "1  45.537930    9.198891  "
      ]
     },
     "execution_count": 61,
     "metadata": {},
     "output_type": "execute_result"
    }
   ],
   "source": [
    "clean_db_aeropuertos.head(2)"
   ]
  },
  {
   "cell_type": "code",
   "execution_count": 62,
   "metadata": {},
   "outputs": [
    {
     "data": {
      "text/html": [
       "<div>\n",
       "<style scoped>\n",
       "    .dataframe tbody tr th:only-of-type {\n",
       "        vertical-align: middle;\n",
       "    }\n",
       "\n",
       "    .dataframe tbody tr th {\n",
       "        vertical-align: top;\n",
       "    }\n",
       "\n",
       "    .dataframe thead th {\n",
       "        text-align: right;\n",
       "    }\n",
       "</style>\n",
       "<table border=\"1\" class=\"dataframe\">\n",
       "  <thead>\n",
       "    <tr style=\"text-align: right;\">\n",
       "      <th></th>\n",
       "      <th>name</th>\n",
       "      <th>address</th>\n",
       "      <th>LAT_WGS84</th>\n",
       "      <th>LONG_WGS84</th>\n",
       "      <th>geopoint</th>\n",
       "    </tr>\n",
       "  </thead>\n",
       "  <tbody>\n",
       "    <tr>\n",
       "      <th>0</th>\n",
       "      <td>Aeroporto di Milano Linate (LIN) (Aeroporto di...</td>\n",
       "      <td>Viale Enrico Forlanini</td>\n",
       "      <td>45.460409</td>\n",
       "      <td>9.279444</td>\n",
       "      <td>{'type': 'Point', 'coordinates': [9.2794441997...</td>\n",
       "    </tr>\n",
       "    <tr>\n",
       "      <th>1</th>\n",
       "      <td>Aeroporto di Bresso (LIMB)</td>\n",
       "      <td>Via Antonio Gramsci 1</td>\n",
       "      <td>45.537930</td>\n",
       "      <td>9.198891</td>\n",
       "      <td>{'type': 'Point', 'coordinates': [9.1988912729...</td>\n",
       "    </tr>\n",
       "  </tbody>\n",
       "</table>\n",
       "</div>"
      ],
      "text/plain": [
       "                                                name                 address  \\\n",
       "0  Aeroporto di Milano Linate (LIN) (Aeroporto di...  Viale Enrico Forlanini   \n",
       "1                         Aeroporto di Bresso (LIMB)   Via Antonio Gramsci 1   \n",
       "\n",
       "   LAT_WGS84  LONG_WGS84                                           geopoint  \n",
       "0  45.460409    9.279444  {'type': 'Point', 'coordinates': [9.2794441997...  \n",
       "1  45.537930    9.198891  {'type': 'Point', 'coordinates': [9.1988912729...  "
      ]
     },
     "execution_count": 62,
     "metadata": {},
     "output_type": "execute_result"
    }
   ],
   "source": [
    "# para poder lanzar queries en MongoDB se necesita este formato \n",
    "# <field>: { type: \"Point\", coordinates: [ long, lat ] }\n",
    "# por eso llamo la funcion <transformToGeoPoint as tg> y creo una nueva columna en la tabla\n",
    "clean_db_aeropuertos[\"geopoint\"] = clean_db_aeropuertos.apply(tg, axis=1)\n",
    "clean_db_aeropuertos.head(2)"
   ]
  },
  {
   "cell_type": "code",
   "execution_count": 63,
   "metadata": {},
   "outputs": [],
   "source": [
    "# Export as json records to import with mongoimport \n",
    "clean_db_aeropuertos.to_json(\"output/clean_db_aeropuertos.json\",orient=\"records\")\n",
    "# mongoimport -d datamad0620 -c offices --jsonArray offices.json"
   ]
  },
  {
   "cell_type": "markdown",
   "metadata": {},
   "source": [
    "# 5 - Basketball stadium"
   ]
  },
  {
   "cell_type": "code",
   "execution_count": 64,
   "metadata": {},
   "outputs": [],
   "source": [
    "lugar = ['Milan']\n",
    "basketball_category = '4bf58dd8d48988d18b941735'"
   ]
  },
  {
   "cell_type": "code",
   "execution_count": 65,
   "metadata": {},
   "outputs": [],
   "source": [
    "data = (getFromFoursquareCategory(basketball_category, 60000, Milan_coordinate))"
   ]
  },
  {
   "cell_type": "code",
   "execution_count": 66,
   "metadata": {},
   "outputs": [],
   "source": [
    "basketball_coord = limpiaRespFoursquareCategory(data)"
   ]
  },
  {
   "cell_type": "code",
   "execution_count": 67,
   "metadata": {},
   "outputs": [
    {
     "data": {
      "text/html": [
       "<div>\n",
       "<style scoped>\n",
       "    .dataframe tbody tr th:only-of-type {\n",
       "        vertical-align: middle;\n",
       "    }\n",
       "\n",
       "    .dataframe tbody tr th {\n",
       "        vertical-align: top;\n",
       "    }\n",
       "\n",
       "    .dataframe thead th {\n",
       "        text-align: right;\n",
       "    }\n",
       "</style>\n",
       "<table border=\"1\" class=\"dataframe\">\n",
       "  <thead>\n",
       "    <tr style=\"text-align: right;\">\n",
       "      <th></th>\n",
       "      <th>name</th>\n",
       "      <th>location</th>\n",
       "    </tr>\n",
       "  </thead>\n",
       "  <tbody>\n",
       "    <tr>\n",
       "      <th>0</th>\n",
       "      <td>PalaCandy</td>\n",
       "      <td>{'address': 'Viale Stucchi 16', 'lat': 45.5853...</td>\n",
       "    </tr>\n",
       "    <tr>\n",
       "      <th>1</th>\n",
       "      <td>Knights Palace</td>\n",
       "      <td>{'address': 'Via Parma 7', 'lat': 45.581818528...</td>\n",
       "    </tr>\n",
       "  </tbody>\n",
       "</table>\n",
       "</div>"
      ],
      "text/plain": [
       "             name                                           location\n",
       "0       PalaCandy  {'address': 'Viale Stucchi 16', 'lat': 45.5853...\n",
       "1  Knights Palace  {'address': 'Via Parma 7', 'lat': 45.581818528..."
      ]
     },
     "execution_count": 67,
     "metadata": {},
     "output_type": "execute_result"
    }
   ],
   "source": [
    "db_basketballs = pd.DataFrame(basketball_coord)\n",
    "db_basketballs.head(2)"
   ]
  },
  {
   "cell_type": "code",
   "execution_count": 68,
   "metadata": {},
   "outputs": [],
   "source": [
    "geo_db_basketball = pd.DataFrame(db_basketballs.location.apply(pd.Series))"
   ]
  },
  {
   "cell_type": "code",
   "execution_count": 70,
   "metadata": {},
   "outputs": [
    {
     "data": {
      "text/html": [
       "<div>\n",
       "<style scoped>\n",
       "    .dataframe tbody tr th:only-of-type {\n",
       "        vertical-align: middle;\n",
       "    }\n",
       "\n",
       "    .dataframe tbody tr th {\n",
       "        vertical-align: top;\n",
       "    }\n",
       "\n",
       "    .dataframe thead th {\n",
       "        text-align: right;\n",
       "    }\n",
       "</style>\n",
       "<table border=\"1\" class=\"dataframe\">\n",
       "  <thead>\n",
       "    <tr style=\"text-align: right;\">\n",
       "      <th></th>\n",
       "      <th>name</th>\n",
       "      <th>address</th>\n",
       "      <th>lat</th>\n",
       "      <th>lng</th>\n",
       "    </tr>\n",
       "  </thead>\n",
       "  <tbody>\n",
       "    <tr>\n",
       "      <th>0</th>\n",
       "      <td>PalaCandy</td>\n",
       "      <td>Viale Stucchi 16</td>\n",
       "      <td>45.585332</td>\n",
       "      <td>9.309250</td>\n",
       "    </tr>\n",
       "    <tr>\n",
       "      <th>1</th>\n",
       "      <td>Knights Palace</td>\n",
       "      <td>Via Parma 7</td>\n",
       "      <td>45.581819</td>\n",
       "      <td>8.894455</td>\n",
       "    </tr>\n",
       "  </tbody>\n",
       "</table>\n",
       "</div>"
      ],
      "text/plain": [
       "             name           address        lat       lng\n",
       "0       PalaCandy  Viale Stucchi 16  45.585332  9.309250\n",
       "1  Knights Palace       Via Parma 7  45.581819  8.894455"
      ]
     },
     "execution_count": 70,
     "metadata": {},
     "output_type": "execute_result"
    }
   ],
   "source": [
    "# basketballs table limpia lista para la transformacíon en GeoPoint\n",
    "clean_db_basketballs = pd.concat([db_basketballs[\"name\"], geo_db_basketball[['address','lat','lng']]], axis=1)\n",
    "clean_db_basketballs.head(2)"
   ]
  },
  {
   "cell_type": "code",
   "execution_count": 71,
   "metadata": {},
   "outputs": [],
   "source": [
    "clean_db_basketballs= clean_db_basketballs.rename(columns={\"lat\": \"LAT_WGS84\", \"lng\": \"LONG_WGS84\"})"
   ]
  },
  {
   "cell_type": "code",
   "execution_count": 72,
   "metadata": {},
   "outputs": [
    {
     "data": {
      "text/html": [
       "<div>\n",
       "<style scoped>\n",
       "    .dataframe tbody tr th:only-of-type {\n",
       "        vertical-align: middle;\n",
       "    }\n",
       "\n",
       "    .dataframe tbody tr th {\n",
       "        vertical-align: top;\n",
       "    }\n",
       "\n",
       "    .dataframe thead th {\n",
       "        text-align: right;\n",
       "    }\n",
       "</style>\n",
       "<table border=\"1\" class=\"dataframe\">\n",
       "  <thead>\n",
       "    <tr style=\"text-align: right;\">\n",
       "      <th></th>\n",
       "      <th>name</th>\n",
       "      <th>address</th>\n",
       "      <th>LAT_WGS84</th>\n",
       "      <th>LONG_WGS84</th>\n",
       "    </tr>\n",
       "  </thead>\n",
       "  <tbody>\n",
       "    <tr>\n",
       "      <th>0</th>\n",
       "      <td>PalaCandy</td>\n",
       "      <td>Viale Stucchi 16</td>\n",
       "      <td>45.585332</td>\n",
       "      <td>9.309250</td>\n",
       "    </tr>\n",
       "    <tr>\n",
       "      <th>1</th>\n",
       "      <td>Knights Palace</td>\n",
       "      <td>Via Parma 7</td>\n",
       "      <td>45.581819</td>\n",
       "      <td>8.894455</td>\n",
       "    </tr>\n",
       "  </tbody>\n",
       "</table>\n",
       "</div>"
      ],
      "text/plain": [
       "             name           address  LAT_WGS84  LONG_WGS84\n",
       "0       PalaCandy  Viale Stucchi 16  45.585332    9.309250\n",
       "1  Knights Palace       Via Parma 7  45.581819    8.894455"
      ]
     },
     "execution_count": 72,
     "metadata": {},
     "output_type": "execute_result"
    }
   ],
   "source": [
    "clean_db_basketballs.head(2)"
   ]
  },
  {
   "cell_type": "code",
   "execution_count": 73,
   "metadata": {},
   "outputs": [
    {
     "data": {
      "text/html": [
       "<div>\n",
       "<style scoped>\n",
       "    .dataframe tbody tr th:only-of-type {\n",
       "        vertical-align: middle;\n",
       "    }\n",
       "\n",
       "    .dataframe tbody tr th {\n",
       "        vertical-align: top;\n",
       "    }\n",
       "\n",
       "    .dataframe thead th {\n",
       "        text-align: right;\n",
       "    }\n",
       "</style>\n",
       "<table border=\"1\" class=\"dataframe\">\n",
       "  <thead>\n",
       "    <tr style=\"text-align: right;\">\n",
       "      <th></th>\n",
       "      <th>name</th>\n",
       "      <th>address</th>\n",
       "      <th>LAT_WGS84</th>\n",
       "      <th>LONG_WGS84</th>\n",
       "      <th>geopoint</th>\n",
       "    </tr>\n",
       "  </thead>\n",
       "  <tbody>\n",
       "    <tr>\n",
       "      <th>0</th>\n",
       "      <td>PalaCandy</td>\n",
       "      <td>Viale Stucchi 16</td>\n",
       "      <td>45.585332</td>\n",
       "      <td>9.309250</td>\n",
       "      <td>{'type': 'Point', 'coordinates': [9.3092497824...</td>\n",
       "    </tr>\n",
       "    <tr>\n",
       "      <th>1</th>\n",
       "      <td>Knights Palace</td>\n",
       "      <td>Via Parma 7</td>\n",
       "      <td>45.581819</td>\n",
       "      <td>8.894455</td>\n",
       "      <td>{'type': 'Point', 'coordinates': [8.8944551988...</td>\n",
       "    </tr>\n",
       "  </tbody>\n",
       "</table>\n",
       "</div>"
      ],
      "text/plain": [
       "             name           address  LAT_WGS84  LONG_WGS84  \\\n",
       "0       PalaCandy  Viale Stucchi 16  45.585332    9.309250   \n",
       "1  Knights Palace       Via Parma 7  45.581819    8.894455   \n",
       "\n",
       "                                            geopoint  \n",
       "0  {'type': 'Point', 'coordinates': [9.3092497824...  \n",
       "1  {'type': 'Point', 'coordinates': [8.8944551988...  "
      ]
     },
     "execution_count": 73,
     "metadata": {},
     "output_type": "execute_result"
    }
   ],
   "source": [
    "# para poder lanzar queries en MongoDB se necesita este formato \n",
    "# <field>: { type: \"Point\", coordinates: [ long, lat ] }\n",
    "# por eso llamo la funcion <transformToGeoPoint as tg> y creo una nueva columna en la tabla\n",
    "clean_db_basketballs[\"geopoint\"] = clean_db_basketballs.apply(tg, axis=1)\n",
    "clean_db_basketballs.head(2)"
   ]
  },
  {
   "cell_type": "code",
   "execution_count": 74,
   "metadata": {},
   "outputs": [],
   "source": [
    "# Export as json records to import with mongoimport \n",
    "clean_db_basketballs.to_json(\"output/clean_db_basketballs.json\",orient=\"records\")\n",
    "# mongoimport -d datamad0620 -c offices --jsonArray offices.json"
   ]
  },
  {
   "cell_type": "markdown",
   "metadata": {},
   "source": [
    "# Numeros civicos con coordenadas de toda Milan\n",
    "https://dati.comune.milano.it/dataset/ds634-numeri-civici-coordinate"
   ]
  },
  {
   "cell_type": "code",
   "execution_count": 75,
   "metadata": {},
   "outputs": [],
   "source": [
    "# en la página web puedo descargar el json de todas las direcciónes, por cada piso de la ciudad, georreferenciadas.\n",
    "dbName = \"Italian_Companies\"\n",
    "mongodbURL = f\"mongodb://localhost/{dbName}\"\n",
    "client = MongoClient(mongodbURL, connectTimeoutMS=2000, serverSelectionTimeoutMS=2000)\n",
    "db = client.get_database()"
   ]
  },
  {
   "cell_type": "code",
   "execution_count": 76,
   "metadata": {},
   "outputs": [],
   "source": [
    "cur = db.civici_coordinate.find({\"DESCRITTIVO\":{'$ne':None}},{\"_id\":0, \"TIPO\":1, \"DESCRITTIVO\":1, \"NUMEROCOMPLETO\":1,\"LAT_WGS84\":1, \"LONG_WGS84\":1})"
   ]
  },
  {
   "cell_type": "code",
   "execution_count": 77,
   "metadata": {},
   "outputs": [],
   "source": [
    "data = list(cur)"
   ]
  },
  {
   "cell_type": "code",
   "execution_count": 78,
   "metadata": {},
   "outputs": [],
   "source": [
    "n_civicos_milan = pd.DataFrame(data) "
   ]
  },
  {
   "cell_type": "code",
   "execution_count": 79,
   "metadata": {},
   "outputs": [
    {
     "data": {
      "text/html": [
       "<div>\n",
       "<style scoped>\n",
       "    .dataframe tbody tr th:only-of-type {\n",
       "        vertical-align: middle;\n",
       "    }\n",
       "\n",
       "    .dataframe tbody tr th {\n",
       "        vertical-align: top;\n",
       "    }\n",
       "\n",
       "    .dataframe thead th {\n",
       "        text-align: right;\n",
       "    }\n",
       "</style>\n",
       "<table border=\"1\" class=\"dataframe\">\n",
       "  <thead>\n",
       "    <tr style=\"text-align: right;\">\n",
       "      <th></th>\n",
       "      <th>NUMEROCOMPLETO</th>\n",
       "      <th>TIPO</th>\n",
       "      <th>DESCRITTIVO</th>\n",
       "      <th>LONG_WGS84</th>\n",
       "      <th>LAT_WGS84</th>\n",
       "    </tr>\n",
       "  </thead>\n",
       "  <tbody>\n",
       "    <tr>\n",
       "      <th>0</th>\n",
       "      <td>21N08</td>\n",
       "      <td>Piazza</td>\n",
       "      <td>DEL DUOMO</td>\n",
       "      <td>9.189762</td>\n",
       "      <td>45.464840</td>\n",
       "    </tr>\n",
       "    <tr>\n",
       "      <th>1</th>\n",
       "      <td>21N01</td>\n",
       "      <td>Piazza</td>\n",
       "      <td>DEL DUOMO</td>\n",
       "      <td>9.189314</td>\n",
       "      <td>45.464846</td>\n",
       "    </tr>\n",
       "  </tbody>\n",
       "</table>\n",
       "</div>"
      ],
      "text/plain": [
       "  NUMEROCOMPLETO    TIPO DESCRITTIVO  LONG_WGS84  LAT_WGS84\n",
       "0          21N08  Piazza   DEL DUOMO    9.189762  45.464840\n",
       "1          21N01  Piazza   DEL DUOMO    9.189314  45.464846"
      ]
     },
     "execution_count": 79,
     "metadata": {},
     "output_type": "execute_result"
    }
   ],
   "source": [
    "n_civicos_milan.head(2)"
   ]
  },
  {
   "cell_type": "code",
   "execution_count": 81,
   "metadata": {},
   "outputs": [],
   "source": [
    "n_civicos_milan[\"geopoint\"] = n_civicos_milan.apply(tg, axis=1)"
   ]
  },
  {
   "cell_type": "code",
   "execution_count": 82,
   "metadata": {},
   "outputs": [
    {
     "data": {
      "text/html": [
       "<div>\n",
       "<style scoped>\n",
       "    .dataframe tbody tr th:only-of-type {\n",
       "        vertical-align: middle;\n",
       "    }\n",
       "\n",
       "    .dataframe tbody tr th {\n",
       "        vertical-align: top;\n",
       "    }\n",
       "\n",
       "    .dataframe thead th {\n",
       "        text-align: right;\n",
       "    }\n",
       "</style>\n",
       "<table border=\"1\" class=\"dataframe\">\n",
       "  <thead>\n",
       "    <tr style=\"text-align: right;\">\n",
       "      <th></th>\n",
       "      <th>NUMEROCOMPLETO</th>\n",
       "      <th>TIPO</th>\n",
       "      <th>DESCRITTIVO</th>\n",
       "      <th>LONG_WGS84</th>\n",
       "      <th>LAT_WGS84</th>\n",
       "      <th>geopoint</th>\n",
       "    </tr>\n",
       "  </thead>\n",
       "  <tbody>\n",
       "    <tr>\n",
       "      <th>0</th>\n",
       "      <td>21N08</td>\n",
       "      <td>Piazza</td>\n",
       "      <td>DEL DUOMO</td>\n",
       "      <td>9.189762</td>\n",
       "      <td>45.464840</td>\n",
       "      <td>{'type': 'Point', 'coordinates': [9.189761993,...</td>\n",
       "    </tr>\n",
       "    <tr>\n",
       "      <th>1</th>\n",
       "      <td>21N01</td>\n",
       "      <td>Piazza</td>\n",
       "      <td>DEL DUOMO</td>\n",
       "      <td>9.189314</td>\n",
       "      <td>45.464846</td>\n",
       "      <td>{'type': 'Point', 'coordinates': [9.1893140941...</td>\n",
       "    </tr>\n",
       "  </tbody>\n",
       "</table>\n",
       "</div>"
      ],
      "text/plain": [
       "  NUMEROCOMPLETO    TIPO DESCRITTIVO  LONG_WGS84  LAT_WGS84  \\\n",
       "0          21N08  Piazza   DEL DUOMO    9.189762  45.464840   \n",
       "1          21N01  Piazza   DEL DUOMO    9.189314  45.464846   \n",
       "\n",
       "                                            geopoint  \n",
       "0  {'type': 'Point', 'coordinates': [9.189761993,...  \n",
       "1  {'type': 'Point', 'coordinates': [9.1893140941...  "
      ]
     },
     "execution_count": 82,
     "metadata": {},
     "output_type": "execute_result"
    }
   ],
   "source": [
    "n_civicos_milan.head(2)"
   ]
  },
  {
   "cell_type": "code",
   "execution_count": 83,
   "metadata": {},
   "outputs": [],
   "source": [
    "# Export as json records to import with mongoimport \n",
    "n_civicos_milan.to_json(\"output/clean_civicos_milan.json\",orient=\"records\")\n",
    "# en la terminal para utilizar el json en mongodb\n",
    "# mongoimport --db Italian_Companies --collection clean_civicos_milan --file clean_civicos_milan.json --jsonArray"
   ]
  },
  {
   "cell_type": "code",
   "execution_count": null,
   "metadata": {},
   "outputs": [],
   "source": []
  }
 ],
 "metadata": {
  "kernelspec": {
   "display_name": "Python 3",
   "language": "python",
   "name": "python3"
  },
  "language_info": {
   "codemirror_mode": {
    "name": "ipython",
    "version": 3
   },
   "file_extension": ".py",
   "mimetype": "text/x-python",
   "name": "python",
   "nbconvert_exporter": "python",
   "pygments_lexer": "ipython3",
   "version": "3.7.6"
  }
 },
 "nbformat": 4,
 "nbformat_minor": 4
}
