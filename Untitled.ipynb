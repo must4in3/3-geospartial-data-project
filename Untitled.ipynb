{
 "cells": [
  {
   "cell_type": "code",
   "execution_count": 1,
   "metadata": {},
   "outputs": [],
   "source": [
    "import pandas as pd\n",
    "import re\n",
    "from dotenv import load_dotenv\n",
    "import requests\n",
    "import os\n",
    "from src.geopoint_mongo_functions import transformToGeoPoint\n",
    "from src.geopoint_mongo_functions import geocode\n",
    "from src.web_scraping_functions import getPage\n",
    "import numpy as np\n",
    "from pymongo import MongoClient"
   ]
  },
  {
   "cell_type": "code",
   "execution_count": null,
   "metadata": {},
   "outputs": [],
   "source": [
    "%%time\n",
    "df = pd.read_csv('input/companies_sorted.csv', encoding = 'latin-1')"
   ]
  },
  {
   "cell_type": "code",
   "execution_count": null,
   "metadata": {},
   "outputs": [],
   "source": [
    "# dataset con mas de 7M de company\n",
    "df.head(5)"
   ]
  },
  {
   "cell_type": "code",
   "execution_count": null,
   "metadata": {},
   "outputs": [],
   "source": [
    "# Remove row where all values are None- No hace falta\n",
    "#df = df.dropna(how='all')"
   ]
  },
  {
   "cell_type": "code",
   "execution_count": null,
   "metadata": {},
   "outputs": [],
   "source": [
    "# me quedo solo con las empresas italianas\n",
    "italy_companies = df[df.country == 'italy']"
   ]
  },
  {
   "cell_type": "code",
   "execution_count": null,
   "metadata": {},
   "outputs": [],
   "source": [
    "# Detect missing values. Return a boolean output\n",
    "italy_companies.isnull().sum().sort_values(ascending=False).head(5)"
   ]
  },
  {
   "cell_type": "code",
   "execution_count": null,
   "metadata": {},
   "outputs": [],
   "source": [
    "italy_companies.head(5)"
   ]
  },
  {
   "cell_type": "code",
   "execution_count": null,
   "metadata": {},
   "outputs": [],
   "source": [
    "# miro los attributos localidad y decido quedarme con la ciudad de Milan\n",
    "italy_companies['locality'].value_counts().head(5)"
   ]
  },
  {
   "cell_type": "code",
   "execution_count": null,
   "metadata": {},
   "outputs": [],
   "source": [
    "# Find the NaN values and change them\n",
    "italy_companies['locality'] = italy_companies['locality'].fillna('No Values')\n",
    "milan_companies = italy_companies[italy_companies['locality'].str.contains(pat = 'milan')]"
   ]
  },
  {
   "cell_type": "code",
   "execution_count": null,
   "metadata": {},
   "outputs": [],
   "source": [
    "milan_companies.head(5)"
   ]
  },
  {
   "cell_type": "code",
   "execution_count": null,
   "metadata": {},
   "outputs": [],
   "source": [
    "milan_companies['industry'].value_counts().head(5)"
   ]
  },
  {
   "cell_type": "code",
   "execution_count": null,
   "metadata": {},
   "outputs": [],
   "source": [
    "# https://api.foursquare.com/v2/venues/search?ll=40.744010080453,-73.985651532083&categoryId=4d4b7105d754a06374d81259&query=starbucks&client_id=your_client_id&client_secret=your_client_secret\n",
    "# https://api.foursquare.com/v2/venues/search?ll=40.7,-74&client_id=CLIENT_ID&client_secret=CLIENT_SECRET&v=YYYYMMDD\n"
   ]
  },
  {
   "cell_type": "code",
   "execution_count": null,
   "metadata": {},
   "outputs": [],
   "source": [
    "load_dotenv()"
   ]
  },
  {
   "cell_type": "markdown",
   "metadata": {},
   "source": [
    "# 1 - Design Companies in Milan. API foursquare"
   ]
  },
  {
   "cell_type": "code",
   "execution_count": null,
   "metadata": {},
   "outputs": [],
   "source": [
    "design_companies = milan_companies[milan_companies.industry == 'design']"
   ]
  },
  {
   "cell_type": "code",
   "execution_count": null,
   "metadata": {},
   "outputs": [],
   "source": [
    "design_companies.head(5)"
   ]
  },
  {
   "cell_type": "code",
   "execution_count": null,
   "metadata": {},
   "outputs": [],
   "source": [
    "client_id = os.getenv(\"CLIENT_ID\")\n",
    "client_secret = os.getenv(\"CLIENT_SECRET\")"
   ]
  },
  {
   "cell_type": "code",
   "execution_count": null,
   "metadata": {},
   "outputs": [],
   "source": [
    "%%time\n",
    "# de las compañias de design me falta la direccíon y la geolocalizacíon.\n",
    "# a traves de un bucle for y la API foursquare hago diferentes requests por cada compañia en la tabla anterior,\n",
    "# con el fin de incontrár la informacíon que necesito.\n",
    "# c_json = company_json.get('venues') es necesario para evitar un KeyError, ya que no siempre está presente\n",
    "# esta llave en el dictionario\n",
    "\n",
    "design_companies_location = []\n",
    "for design_c in design_companies['name']:\n",
    "    url = f'https://api.foursquare.com/v2/venues/search?near=milan&query={design_c}&client_id={client_id}&client_secret={client_secret}&v=20181101'\n",
    "    res = requests.get(url)\n",
    "    company_json = res.json()\n",
    "    company_json = company_json['response']\n",
    "    c_json = company_json.get('venues')\n",
    "    if c_json:\n",
    "        design_companies_location.append({'name': c_json[0]['name'], 'location': c_json[0]['location']})"
   ]
  },
  {
   "cell_type": "code",
   "execution_count": null,
   "metadata": {},
   "outputs": [],
   "source": [
    "design_companies_location\n",
    "design_company_table = pd.DataFrame(design_companies_location)"
   ]
  },
  {
   "cell_type": "code",
   "execution_count": null,
   "metadata": {},
   "outputs": [],
   "source": [
    "design_company_table.head(5)"
   ]
  },
  {
   "cell_type": "code",
   "execution_count": null,
   "metadata": {},
   "outputs": [],
   "source": [
    "# separo la columna location en subcolumnas para recuperar latitude y longitude\n",
    "geo_design_company = pd.DataFrame(design_company_table.location.apply(pd.Series))"
   ]
  },
  {
   "cell_type": "code",
   "execution_count": null,
   "metadata": {},
   "outputs": [],
   "source": [
    "# design companies table limpia lista para la transformacíon en GeoPoint\n",
    "clean_design_company = pd.concat([design_company_table[\"name\"], geo_design_company[['address','lat','lng']]], axis=1)\n",
    "clean_design_company"
   ]
  },
  {
   "cell_type": "code",
   "execution_count": null,
   "metadata": {},
   "outputs": [],
   "source": [
    "# para poder hacer query en MongoDB se necesita este formato \n",
    "# <field>: { type: <GeoJSON type> , coordinates: <coordinates> }\n",
    "# por eso llamo la funcion <transformToGeoPoint as tg> y creo una nueva columna en la tabla\n",
    "clean_design_company[\"geopoint\"] = clean_design_company.apply(tg, axis=1)\n",
    "clean_design_company"
   ]
  },
  {
   "cell_type": "code",
   "execution_count": null,
   "metadata": {},
   "outputs": [],
   "source": [
    "# Export as json records to import with mongoimport \n",
    "clean_design_company.to_json(\"output/design_company.json\",orient=\"records\")\n",
    "# mongoimport -d datamad0620 -c offices --jsonArray offices.json"
   ]
  },
  {
   "cell_type": "markdown",
   "metadata": {},
   "source": [
    "# Starbucks from Selenium"
   ]
  },
  {
   "cell_type": "code",
   "execution_count": 2,
   "metadata": {},
   "outputs": [
    {
     "name": "stderr",
     "output_type": "stream",
     "text": [
      "[WDM] - Current google-chrome version is 81.0.4044\n",
      "[WDM] - Get LATEST driver version for 81.0.4044\n",
      "[WDM] - Driver [/home/must4in3/.wdm/drivers/chromedriver/linux64/81.0.4044.138/chromedriver] found in cache\n"
     ]
    },
    {
     "name": "stdout",
     "output_type": "stream",
     "text": [
      " \n"
     ]
    }
   ],
   "source": [
    "# https://www.starbucks.it/store-locator/search/location/milano\n",
    "# Web Scraping utilizando Selenium porque el solo BeautifulSoup no permite cargar toda la pagina.\n",
    "# Voy a llamar la funcion <getPage> para enviar la requests a la pagina oficíal de Starbucks italia\n",
    "soup = getPage(\"https://www.starbucks.it/store-locator/search/location/milano\")"
   ]
  },
  {
   "cell_type": "code",
   "execution_count": 3,
   "metadata": {},
   "outputs": [],
   "source": [
    "# utilizando los selectores consiguo sacar el nombre de cada Starbucks y la direccíon, y el zip me permite juntar\n",
    "# las dos informacíones\n",
    "name_starbucks = [x.text for x in soup.select(\".store-name\")]\n",
    "address_starbucks = [' '.join(x.text.split()) for x in soup.select(\".address\")]\n",
    "merge_starbucks = list(zip(name_starbucks, address_starbucks))"
   ]
  },
  {
   "cell_type": "code",
   "execution_count": 4,
   "metadata": {},
   "outputs": [],
   "source": [
    "# con un bucle for creo el dictionario y la tabla de los Starbucks de Milano\n",
    "dict_starbucks = []\n",
    "for starbucks in merge_starbucks:\n",
    "    dict_starbucks.append({'name': starbucks[0], 'location': starbucks[1]})\n",
    "starbacks_table = pd.DataFrame(dict_starbucks)"
   ]
  },
  {
   "cell_type": "code",
   "execution_count": 5,
   "metadata": {},
   "outputs": [
    {
     "data": {
      "text/html": [
       "<div>\n",
       "<style scoped>\n",
       "    .dataframe tbody tr th:only-of-type {\n",
       "        vertical-align: middle;\n",
       "    }\n",
       "\n",
       "    .dataframe tbody tr th {\n",
       "        vertical-align: top;\n",
       "    }\n",
       "\n",
       "    .dataframe thead th {\n",
       "        text-align: right;\n",
       "    }\n",
       "</style>\n",
       "<table border=\"1\" class=\"dataframe\">\n",
       "  <thead>\n",
       "    <tr style=\"text-align: right;\">\n",
       "      <th></th>\n",
       "      <th>name</th>\n",
       "      <th>location</th>\n",
       "    </tr>\n",
       "  </thead>\n",
       "  <tbody>\n",
       "    <tr>\n",
       "      <th>0</th>\n",
       "      <td>Milan Roastery</td>\n",
       "      <td>Piazza Cordusio 3 Milan 20123</td>\n",
       "    </tr>\n",
       "    <tr>\n",
       "      <th>1</th>\n",
       "      <td>Starbucks Porta Romana</td>\n",
       "      <td>Via Lentasio, 1 angolo Corso di Porta Romana M...</td>\n",
       "    </tr>\n",
       "    <tr>\n",
       "      <th>2</th>\n",
       "      <td>Starbucks Durini</td>\n",
       "      <td>Via Durini, 28 Milan 20121</td>\n",
       "    </tr>\n",
       "    <tr>\n",
       "      <th>3</th>\n",
       "      <td>Starbucks Turati</td>\n",
       "      <td>Via Filippo Turati, 25 Milano 20121</td>\n",
       "    </tr>\n",
       "    <tr>\n",
       "      <th>4</th>\n",
       "      <td>Starbucks Garibaldi</td>\n",
       "      <td>Corso Garibaldi, 118 Milano 20121</td>\n",
       "    </tr>\n",
       "    <tr>\n",
       "      <th>5</th>\n",
       "      <td>Starbucks Vercelli</td>\n",
       "      <td>Piazzale Francesco Baracca, 10 angolo Corso Ve...</td>\n",
       "    </tr>\n",
       "    <tr>\n",
       "      <th>6</th>\n",
       "      <td>Starbucks Centrale</td>\n",
       "      <td>Piazza Luigi di Savoia, 1 Milano 20124</td>\n",
       "    </tr>\n",
       "    <tr>\n",
       "      <th>7</th>\n",
       "      <td>Starbucks Assago Milanofiori</td>\n",
       "      <td>Viale Milanofiori Centro Commerciale Milanofio...</td>\n",
       "    </tr>\n",
       "    <tr>\n",
       "      <th>8</th>\n",
       "      <td>Starbucks Malpensa</td>\n",
       "      <td>Aeroporto Milano Malpensa T1 - Partenze Ferno ...</td>\n",
       "    </tr>\n",
       "  </tbody>\n",
       "</table>\n",
       "</div>"
      ],
      "text/plain": [
       "                           name  \\\n",
       "0                Milan Roastery   \n",
       "1        Starbucks Porta Romana   \n",
       "2              Starbucks Durini   \n",
       "3              Starbucks Turati   \n",
       "4           Starbucks Garibaldi   \n",
       "5            Starbucks Vercelli   \n",
       "6            Starbucks Centrale   \n",
       "7  Starbucks Assago Milanofiori   \n",
       "8            Starbucks Malpensa   \n",
       "\n",
       "                                            location  \n",
       "0                      Piazza Cordusio 3 Milan 20123  \n",
       "1  Via Lentasio, 1 angolo Corso di Porta Romana M...  \n",
       "2                         Via Durini, 28 Milan 20121  \n",
       "3                Via Filippo Turati, 25 Milano 20121  \n",
       "4                  Corso Garibaldi, 118 Milano 20121  \n",
       "5  Piazzale Francesco Baracca, 10 angolo Corso Ve...  \n",
       "6             Piazza Luigi di Savoia, 1 Milano 20124  \n",
       "7  Viale Milanofiori Centro Commerciale Milanofio...  \n",
       "8  Aeroporto Milano Malpensa T1 - Partenze Ferno ...  "
      ]
     },
     "execution_count": 5,
     "metadata": {},
     "output_type": "execute_result"
    }
   ],
   "source": [
    "starbacks_table"
   ]
  },
  {
   "cell_type": "code",
   "execution_count": 6,
   "metadata": {},
   "outputs": [
    {
     "name": "stdout",
     "output_type": "stream",
     "text": [
      "{'standard': {'stnumber': '3', 'addresst': 'Piazza Cordusio', 'postal': {}, 'region': 'IT', 'prov': 'IT', 'city': 'Milano', 'countryname': 'Italy', 'confidence': '0.90'}, 'longt': '9.18620', 'alt': {}, 'elevation': {}, 'latt': '45.46496'}\n",
      "{'standard': {'addresst': 'Via Lentasio', 'city': 'Milano', 'prov': 'IT', 'countryname': 'Italy', 'postal': {}, 'confidence': '0.90'}, 'longt': '9.19167', 'alt': {}, 'elevation': {}, 'latt': '45.45844'}\n",
      "{'standard': {'stnumber': '28', 'addresst': 'Via Durini', 'postal': '20122', 'region': 'IT', 'prov': 'IT', 'city': 'Milano', 'countryname': 'Italy', 'confidence': '0.9'}, 'longt': '9.19836', 'alt': {}, 'elevation': {}, 'latt': '45.46563'}\n",
      "{'standard': {'stnumber': '18', 'addresst': 'Via Filippo Turati', 'postal': '20121', 'region': 'IT', 'prov': 'IT', 'city': 'Milano', 'countryname': 'Italy', 'confidence': '0.90'}, 'longt': '9.19490', 'alt': {}, 'elevation': {}, 'latt': '45.47478'}\n",
      "{'standard': {'stnumber': '51', 'addresst': 'Corso Garibaldi', 'postal': '20121', 'region': 'IT', 'prov': 'IT', 'city': 'Milano', 'countryname': 'Italy', 'confidence': '0.90'}, 'longt': '9.18336', 'alt': {}, 'elevation': {}, 'latt': '45.47405'}\n",
      "{'standard': {'addresst': 'Corso Vercelli', 'city': 'Milano', 'prov': 'IT', 'countryname': 'Italy', 'postal': {}, 'confidence': '0.35'}, 'longt': '9.16487', 'alt': {}, 'elevation': {}, 'latt': '45.46626'}\n",
      "{'standard': {'addresst': 'Piazza Luigi Di Savoia', 'city': 'Milano', 'prov': 'IT', 'countryname': 'Italy', 'postal': {}, 'confidence': '1.00'}, 'longt': '9.20784', 'alt': {}, 'elevation': {}, 'latt': '45.48631'}\n",
      "{'standard': {'addresst': 'Viale Milanofiori', 'city': 'Assago', 'prov': 'IT', 'countryname': 'Italy', 'postal': '20099', 'confidence': '0.4'}, 'longt': '9.15274', 'alt': {}, 'elevation': {}, 'latt': '45.40453'}\n",
      "{'standard': {'stnumber': '1', 'addresst': 'Via Milano - Via Merano (Baranzate)', 'city': 'MILANO', 'prov': 'IT', 'countryname': 'Italy', 'postal': {}, 'confidence': '0.6'}, 'longt': '9.11615', 'alt': {}, 'elevation': {}, 'latt': '45.52215'}\n",
      "CPU times: user 310 ms, sys: 20.7 ms, total: 331 ms\n",
      "Wall time: 46.4 s\n"
     ]
    }
   ],
   "source": [
    "%%time\n",
    "# llamo la funcion geocode porque necesito añadir en la tabla las infos de lat y long\n",
    "#documentación en los siguientes enlaces -> https://geojson.io/#map=16/40.3959/-3.7039 ; https://geojson.org/\n",
    "geo_starbucks = []\n",
    "geocode(starbacks_table['location'], geo_starbucks)"
   ]
  },
  {
   "cell_type": "code",
   "execution_count": 7,
   "metadata": {},
   "outputs": [
    {
     "data": {
      "text/html": [
       "<div>\n",
       "<style scoped>\n",
       "    .dataframe tbody tr th:only-of-type {\n",
       "        vertical-align: middle;\n",
       "    }\n",
       "\n",
       "    .dataframe tbody tr th {\n",
       "        vertical-align: top;\n",
       "    }\n",
       "\n",
       "    .dataframe thead th {\n",
       "        text-align: right;\n",
       "    }\n",
       "</style>\n",
       "<table border=\"1\" class=\"dataframe\">\n",
       "  <thead>\n",
       "    <tr style=\"text-align: right;\">\n",
       "      <th></th>\n",
       "      <th>name</th>\n",
       "      <th>location</th>\n",
       "      <th>geopoint</th>\n",
       "    </tr>\n",
       "  </thead>\n",
       "  <tbody>\n",
       "    <tr>\n",
       "      <th>0</th>\n",
       "      <td>Milan Roastery</td>\n",
       "      <td>Piazza Cordusio 3 Milan 20123</td>\n",
       "      <td>{'type': 'Point', 'coordinates': [9.1862, 45.4...</td>\n",
       "    </tr>\n",
       "    <tr>\n",
       "      <th>1</th>\n",
       "      <td>Starbucks Porta Romana</td>\n",
       "      <td>Via Lentasio, 1 angolo Corso di Porta Romana M...</td>\n",
       "      <td>{'type': 'Point', 'coordinates': [9.19167, 45....</td>\n",
       "    </tr>\n",
       "    <tr>\n",
       "      <th>2</th>\n",
       "      <td>Starbucks Durini</td>\n",
       "      <td>Via Durini, 28 Milan 20121</td>\n",
       "      <td>{'type': 'Point', 'coordinates': [9.19836, 45....</td>\n",
       "    </tr>\n",
       "    <tr>\n",
       "      <th>3</th>\n",
       "      <td>Starbucks Turati</td>\n",
       "      <td>Via Filippo Turati, 25 Milano 20121</td>\n",
       "      <td>{'type': 'Point', 'coordinates': [9.1949, 45.4...</td>\n",
       "    </tr>\n",
       "    <tr>\n",
       "      <th>4</th>\n",
       "      <td>Starbucks Garibaldi</td>\n",
       "      <td>Corso Garibaldi, 118 Milano 20121</td>\n",
       "      <td>{'type': 'Point', 'coordinates': [9.18336, 45....</td>\n",
       "    </tr>\n",
       "    <tr>\n",
       "      <th>5</th>\n",
       "      <td>Starbucks Vercelli</td>\n",
       "      <td>Piazzale Francesco Baracca, 10 angolo Corso Ve...</td>\n",
       "      <td>{'type': 'Point', 'coordinates': [9.16487, 45....</td>\n",
       "    </tr>\n",
       "    <tr>\n",
       "      <th>6</th>\n",
       "      <td>Starbucks Centrale</td>\n",
       "      <td>Piazza Luigi di Savoia, 1 Milano 20124</td>\n",
       "      <td>{'type': 'Point', 'coordinates': [9.20784, 45....</td>\n",
       "    </tr>\n",
       "    <tr>\n",
       "      <th>7</th>\n",
       "      <td>Starbucks Assago Milanofiori</td>\n",
       "      <td>Viale Milanofiori Centro Commerciale Milanofio...</td>\n",
       "      <td>{'type': 'Point', 'coordinates': [9.15274, 45....</td>\n",
       "    </tr>\n",
       "    <tr>\n",
       "      <th>8</th>\n",
       "      <td>Starbucks Malpensa</td>\n",
       "      <td>Aeroporto Milano Malpensa T1 - Partenze Ferno ...</td>\n",
       "      <td>{'type': 'Point', 'coordinates': [9.11615, 45....</td>\n",
       "    </tr>\n",
       "  </tbody>\n",
       "</table>\n",
       "</div>"
      ],
      "text/plain": [
       "                           name  \\\n",
       "0                Milan Roastery   \n",
       "1        Starbucks Porta Romana   \n",
       "2              Starbucks Durini   \n",
       "3              Starbucks Turati   \n",
       "4           Starbucks Garibaldi   \n",
       "5            Starbucks Vercelli   \n",
       "6            Starbucks Centrale   \n",
       "7  Starbucks Assago Milanofiori   \n",
       "8            Starbucks Malpensa   \n",
       "\n",
       "                                            location  \\\n",
       "0                      Piazza Cordusio 3 Milan 20123   \n",
       "1  Via Lentasio, 1 angolo Corso di Porta Romana M...   \n",
       "2                         Via Durini, 28 Milan 20121   \n",
       "3                Via Filippo Turati, 25 Milano 20121   \n",
       "4                  Corso Garibaldi, 118 Milano 20121   \n",
       "5  Piazzale Francesco Baracca, 10 angolo Corso Ve...   \n",
       "6             Piazza Luigi di Savoia, 1 Milano 20124   \n",
       "7  Viale Milanofiori Centro Commerciale Milanofio...   \n",
       "8  Aeroporto Milano Malpensa T1 - Partenze Ferno ...   \n",
       "\n",
       "                                            geopoint  \n",
       "0  {'type': 'Point', 'coordinates': [9.1862, 45.4...  \n",
       "1  {'type': 'Point', 'coordinates': [9.19167, 45....  \n",
       "2  {'type': 'Point', 'coordinates': [9.19836, 45....  \n",
       "3  {'type': 'Point', 'coordinates': [9.1949, 45.4...  \n",
       "4  {'type': 'Point', 'coordinates': [9.18336, 45....  \n",
       "5  {'type': 'Point', 'coordinates': [9.16487, 45....  \n",
       "6  {'type': 'Point', 'coordinates': [9.20784, 45....  \n",
       "7  {'type': 'Point', 'coordinates': [9.15274, 45....  \n",
       "8  {'type': 'Point', 'coordinates': [9.11615, 45....  "
      ]
     },
     "execution_count": 7,
     "metadata": {},
     "output_type": "execute_result"
    }
   ],
   "source": [
    "# con assign cada valor de la lista se va asignando a la nueva columna geopoint en la starbacks_table\n",
    "starbacks_table.assign(geopoint=geo_starbucks)"
   ]
  },
  {
   "cell_type": "code",
   "execution_count": null,
   "metadata": {},
   "outputs": [],
   "source": [
    "# METODOLOGIA ALTERNATIVA"
   ]
  },
  {
   "cell_type": "code",
   "execution_count": null,
   "metadata": {},
   "outputs": [],
   "source": [
    "#client_id = os.getenv(\"CLIENT_ID\")\n",
    "#client_secret = os.getenv(\"CLIENT_SECRET\")"
   ]
  },
  {
   "cell_type": "code",
   "execution_count": null,
   "metadata": {},
   "outputs": [],
   "source": [
    "## enviar una request. Si sale un numero que empieza con 2 todo bien, \n",
    "## o si no ver los errores de los gatos a ver que dicen!\n",
    "#url = f'https://api.foursquare.com/v2/venues/search?near=milan&query=Starbucks&client_id={client_id}&client_secret={client_secret}&v=20181101'\n",
    "#res = requests.get(url)\n",
    "#starbucks= res.json()\n",
    "## del requests seleciono solo la key venues dentro response\n",
    "#starbucks['response']['venues']\n",
    "## leer infos read_json leer documentacíon"
   ]
  },
  {
   "cell_type": "code",
   "execution_count": null,
   "metadata": {},
   "outputs": [],
   "source": [
    "## dataframe de los starbucks in Milan\n",
    "#table_starbucks = pd.DataFrame((starbucks['response']['venues'])) #read json\n",
    "#table_starbucks.head(3)"
   ]
  },
  {
   "cell_type": "code",
   "execution_count": null,
   "metadata": {},
   "outputs": [],
   "source": [
    "## elimino la unica row que no tenga Starbucks\n",
    "#table_starbucks = table_starbucks[table_starbucks['name'].str.contains(pat = 'Starbucks')]\n",
    "## separo la columna location en subcolumnas para recuperar latitude y longitude\n",
    "#geo_starbucks = pd.DataFrame(table_starbucks.location.apply(pd.Series))"
   ]
  },
  {
   "cell_type": "code",
   "execution_count": null,
   "metadata": {},
   "outputs": [],
   "source": [
    "## starbucks table limpia lista para la transformacíon en GeoPoint\n",
    "#clean_starbucks = pd.concat([table_starbucks[\"name\"], geo_starbucks[['address','lat','lng']]], axis=1)\n",
    "#clean_starbucks"
   ]
  },
  {
   "cell_type": "code",
   "execution_count": null,
   "metadata": {},
   "outputs": [],
   "source": [
    "## para poder hacer query en MongoDB se necesita este formato \n",
    "## <field>: { type: <GeoJSON type> , coordinates: <coordinates> }\n",
    "## por eso llamo la funcion transformToGeoPoint\n",
    "#clean_starbucks[\"geopoint\"] = clean_starbucks.apply(transformToGeoPoint, axis=1)\n",
    "#clean_starbucks"
   ]
  },
  {
   "cell_type": "code",
   "execution_count": null,
   "metadata": {},
   "outputs": [],
   "source": [
    "## Convert objectIds to string to be able to export as JSON \n",
    "#clean_starbucks[\"geopoint\"] = clean_starbucks[\"geopoint\"].apply(lambda e: str(e))\n",
    "## Export as json records to import with mongoimport \n",
    "#clean_starbucks.to_json(\"output/starbucks.json\",orient=\"records\")\n",
    "## mongoimport -d datamad0620 -c offices --jsonArray offices.json"
   ]
  },
  {
   "cell_type": "markdown",
   "metadata": {},
   "source": [
    "# sitios para diversion"
   ]
  },
  {
   "cell_type": "code",
   "execution_count": null,
   "metadata": {},
   "outputs": [],
   "source": [
    "#https://dati.comune.milano.it/dataset/ds252-economia-locali-pubblico-spettacolo"
   ]
  },
  {
   "cell_type": "code",
   "execution_count": null,
   "metadata": {},
   "outputs": [],
   "source": [
    "dbName = \"Italian_Companies\"\n",
    "mongodbURL = f\"mongodb://localhost/{dbName}\"\n",
    "client = MongoClient(mongodbURL, connectTimeoutMS=2000, serverSelectionTimeoutMS=2000)\n",
    "db = client.get_database()"
   ]
  },
  {
   "cell_type": "code",
   "execution_count": null,
   "metadata": {},
   "outputs": [],
   "source": [
    "cur = db.Italian_Companies.find({\"insegna\":{'$ne':None}},{\"insegna\":1,\"_id\":0, \"LAT_WGS84\":1, \"LONG_WGS84\":1})"
   ]
  },
  {
   "cell_type": "code",
   "execution_count": null,
   "metadata": {},
   "outputs": [],
   "source": [
    "data = list(cur)"
   ]
  },
  {
   "cell_type": "code",
   "execution_count": null,
   "metadata": {},
   "outputs": [],
   "source": [
    "sitios_para_diversion = pd.DataFrame(data)\n",
    "sitios_para_diversion"
   ]
  },
  {
   "cell_type": "code",
   "execution_count": null,
   "metadata": {},
   "outputs": [],
   "source": [
    "## para poder hacer query en MongoDB se necesita este formato \n",
    "## <field>: { type: <GeoJSON type> , coordinates: <coordinates> }\n",
    "## por eso llamo la funcion transformToGeoPoint\n",
    "sitios_para_diversion[\"geopoint\"] = sitios_para_diversion.apply(transformToGeoPoint, axis=1)"
   ]
  },
  {
   "cell_type": "code",
   "execution_count": null,
   "metadata": {},
   "outputs": [],
   "source": [
    "sitios_para_diversion"
   ]
  },
  {
   "cell_type": "code",
   "execution_count": null,
   "metadata": {},
   "outputs": [],
   "source": []
  }
 ],
 "metadata": {
  "kernelspec": {
   "display_name": "Python 3",
   "language": "python",
   "name": "python3"
  },
  "language_info": {
   "codemirror_mode": {
    "name": "ipython",
    "version": 3
   },
   "file_extension": ".py",
   "mimetype": "text/x-python",
   "name": "python",
   "nbconvert_exporter": "python",
   "pygments_lexer": "ipython3",
   "version": "3.7.6"
  }
 },
 "nbformat": 4,
 "nbformat_minor": 4
}
