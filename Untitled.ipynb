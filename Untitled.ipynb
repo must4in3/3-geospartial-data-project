{
 "cells": [
  {
   "cell_type": "code",
   "execution_count": 20,
   "metadata": {},
   "outputs": [],
   "source": [
    "import pandas as pd\n",
    "import re\n",
    "from dotenv import load_dotenv\n",
    "import requests\n",
    "import os\n",
    "from src.geopoint_mongo import transformToGeoPoint as tg\n",
    "import numpy as np\n",
    "from pymongo import MongoClient"
   ]
  },
  {
   "cell_type": "code",
   "execution_count": 2,
   "metadata": {},
   "outputs": [
    {
     "name": "stdout",
     "output_type": "stream",
     "text": [
      "CPU times: user 17.4 s, sys: 1.49 s, total: 18.9 s\n",
      "Wall time: 18.9 s\n"
     ]
    }
   ],
   "source": [
    "%%time\n",
    "df = pd.read_csv('input/companies_sorted.csv', encoding = 'latin-1')"
   ]
  },
  {
   "cell_type": "code",
   "execution_count": 3,
   "metadata": {},
   "outputs": [
    {
     "data": {
      "text/html": [
       "<div>\n",
       "<style scoped>\n",
       "    .dataframe tbody tr th:only-of-type {\n",
       "        vertical-align: middle;\n",
       "    }\n",
       "\n",
       "    .dataframe tbody tr th {\n",
       "        vertical-align: top;\n",
       "    }\n",
       "\n",
       "    .dataframe thead th {\n",
       "        text-align: right;\n",
       "    }\n",
       "</style>\n",
       "<table border=\"1\" class=\"dataframe\">\n",
       "  <thead>\n",
       "    <tr style=\"text-align: right;\">\n",
       "      <th></th>\n",
       "      <th>Unnamed: 0</th>\n",
       "      <th>name</th>\n",
       "      <th>domain</th>\n",
       "      <th>year founded</th>\n",
       "      <th>industry</th>\n",
       "      <th>size range</th>\n",
       "      <th>locality</th>\n",
       "      <th>country</th>\n",
       "      <th>linkedin url</th>\n",
       "      <th>current employee estimate</th>\n",
       "      <th>total employee estimate</th>\n",
       "    </tr>\n",
       "  </thead>\n",
       "  <tbody>\n",
       "    <tr>\n",
       "      <th>0</th>\n",
       "      <td>5872184</td>\n",
       "      <td>ibm</td>\n",
       "      <td>ibm.com</td>\n",
       "      <td>1911.0</td>\n",
       "      <td>information technology and services</td>\n",
       "      <td>10001+</td>\n",
       "      <td>new york, new york, united states</td>\n",
       "      <td>united states</td>\n",
       "      <td>linkedin.com/company/ibm</td>\n",
       "      <td>274047</td>\n",
       "      <td>716906</td>\n",
       "    </tr>\n",
       "    <tr>\n",
       "      <th>1</th>\n",
       "      <td>4425416</td>\n",
       "      <td>tata consultancy services</td>\n",
       "      <td>tcs.com</td>\n",
       "      <td>1968.0</td>\n",
       "      <td>information technology and services</td>\n",
       "      <td>10001+</td>\n",
       "      <td>bombay, maharashtra, india</td>\n",
       "      <td>india</td>\n",
       "      <td>linkedin.com/company/tata-consultancy-services</td>\n",
       "      <td>190771</td>\n",
       "      <td>341369</td>\n",
       "    </tr>\n",
       "    <tr>\n",
       "      <th>2</th>\n",
       "      <td>21074</td>\n",
       "      <td>accenture</td>\n",
       "      <td>accenture.com</td>\n",
       "      <td>1989.0</td>\n",
       "      <td>information technology and services</td>\n",
       "      <td>10001+</td>\n",
       "      <td>dublin, dublin, ireland</td>\n",
       "      <td>ireland</td>\n",
       "      <td>linkedin.com/company/accenture</td>\n",
       "      <td>190689</td>\n",
       "      <td>455768</td>\n",
       "    </tr>\n",
       "    <tr>\n",
       "      <th>3</th>\n",
       "      <td>2309813</td>\n",
       "      <td>us army</td>\n",
       "      <td>goarmy.com</td>\n",
       "      <td>1800.0</td>\n",
       "      <td>military</td>\n",
       "      <td>10001+</td>\n",
       "      <td>alexandria, virginia, united states</td>\n",
       "      <td>united states</td>\n",
       "      <td>linkedin.com/company/us-army</td>\n",
       "      <td>162163</td>\n",
       "      <td>445958</td>\n",
       "    </tr>\n",
       "    <tr>\n",
       "      <th>4</th>\n",
       "      <td>1558607</td>\n",
       "      <td>ey</td>\n",
       "      <td>ey.com</td>\n",
       "      <td>1989.0</td>\n",
       "      <td>accounting</td>\n",
       "      <td>10001+</td>\n",
       "      <td>london, greater london, united kingdom</td>\n",
       "      <td>united kingdom</td>\n",
       "      <td>linkedin.com/company/ernstandyoung</td>\n",
       "      <td>158363</td>\n",
       "      <td>428960</td>\n",
       "    </tr>\n",
       "  </tbody>\n",
       "</table>\n",
       "</div>"
      ],
      "text/plain": [
       "   Unnamed: 0                       name         domain  year founded  \\\n",
       "0     5872184                        ibm        ibm.com        1911.0   \n",
       "1     4425416  tata consultancy services        tcs.com        1968.0   \n",
       "2       21074                  accenture  accenture.com        1989.0   \n",
       "3     2309813                    us army     goarmy.com        1800.0   \n",
       "4     1558607                         ey         ey.com        1989.0   \n",
       "\n",
       "                              industry size range  \\\n",
       "0  information technology and services     10001+   \n",
       "1  information technology and services     10001+   \n",
       "2  information technology and services     10001+   \n",
       "3                             military     10001+   \n",
       "4                           accounting     10001+   \n",
       "\n",
       "                                 locality         country  \\\n",
       "0       new york, new york, united states   united states   \n",
       "1              bombay, maharashtra, india           india   \n",
       "2                 dublin, dublin, ireland         ireland   \n",
       "3     alexandria, virginia, united states   united states   \n",
       "4  london, greater london, united kingdom  united kingdom   \n",
       "\n",
       "                                     linkedin url  current employee estimate  \\\n",
       "0                        linkedin.com/company/ibm                     274047   \n",
       "1  linkedin.com/company/tata-consultancy-services                     190771   \n",
       "2                  linkedin.com/company/accenture                     190689   \n",
       "3                    linkedin.com/company/us-army                     162163   \n",
       "4              linkedin.com/company/ernstandyoung                     158363   \n",
       "\n",
       "   total employee estimate  \n",
       "0                   716906  \n",
       "1                   341369  \n",
       "2                   455768  \n",
       "3                   445958  \n",
       "4                   428960  "
      ]
     },
     "execution_count": 3,
     "metadata": {},
     "output_type": "execute_result"
    }
   ],
   "source": [
    "# dataset con mas de 7M de company\n",
    "df.head(5)"
   ]
  },
  {
   "cell_type": "code",
   "execution_count": 4,
   "metadata": {},
   "outputs": [],
   "source": [
    "# Remove row where all values are None- No hace falta\n",
    "#df = df.dropna(how='all')"
   ]
  },
  {
   "cell_type": "code",
   "execution_count": 5,
   "metadata": {},
   "outputs": [],
   "source": [
    "# me quedo solo con las empresas italianas\n",
    "italy_companies = df[df.country == 'italy']"
   ]
  },
  {
   "cell_type": "code",
   "execution_count": 6,
   "metadata": {},
   "outputs": [
    {
     "data": {
      "text/plain": [
       "year founded               33134\n",
       "domain                     16474\n",
       "industry                     597\n",
       "locality                     125\n",
       "total employee estimate        0\n",
       "dtype: int64"
      ]
     },
     "execution_count": 6,
     "metadata": {},
     "output_type": "execute_result"
    }
   ],
   "source": [
    "# Detect missing values. Return a boolean output\n",
    "italy_companies.isnull().sum().sort_values(ascending=False).head(5)"
   ]
  },
  {
   "cell_type": "code",
   "execution_count": 7,
   "metadata": {},
   "outputs": [
    {
     "data": {
      "text/html": [
       "<div>\n",
       "<style scoped>\n",
       "    .dataframe tbody tr th:only-of-type {\n",
       "        vertical-align: middle;\n",
       "    }\n",
       "\n",
       "    .dataframe tbody tr th {\n",
       "        vertical-align: top;\n",
       "    }\n",
       "\n",
       "    .dataframe thead th {\n",
       "        text-align: right;\n",
       "    }\n",
       "</style>\n",
       "<table border=\"1\" class=\"dataframe\">\n",
       "  <thead>\n",
       "    <tr style=\"text-align: right;\">\n",
       "      <th></th>\n",
       "      <th>Unnamed: 0</th>\n",
       "      <th>name</th>\n",
       "      <th>domain</th>\n",
       "      <th>year founded</th>\n",
       "      <th>industry</th>\n",
       "      <th>size range</th>\n",
       "      <th>locality</th>\n",
       "      <th>country</th>\n",
       "      <th>linkedin url</th>\n",
       "      <th>current employee estimate</th>\n",
       "      <th>total employee estimate</th>\n",
       "    </tr>\n",
       "  </thead>\n",
       "  <tbody>\n",
       "    <tr>\n",
       "      <th>368</th>\n",
       "      <td>3388682</td>\n",
       "      <td>saipem</td>\n",
       "      <td>saipem.com</td>\n",
       "      <td>1957.0</td>\n",
       "      <td>oil &amp; energy</td>\n",
       "      <td>10001+</td>\n",
       "      <td>san donato milanese, milan, italy</td>\n",
       "      <td>italy</td>\n",
       "      <td>linkedin.com/company/saipem</td>\n",
       "      <td>14858</td>\n",
       "      <td>33895</td>\n",
       "    </tr>\n",
       "    <tr>\n",
       "      <th>408</th>\n",
       "      <td>5150220</td>\n",
       "      <td>unicredit</td>\n",
       "      <td>unicreditgroup.eu</td>\n",
       "      <td>2014.0</td>\n",
       "      <td>banking</td>\n",
       "      <td>10001+</td>\n",
       "      <td>milano, lombardy, italy</td>\n",
       "      <td>italy</td>\n",
       "      <td>linkedin.com/company/unicredit</td>\n",
       "      <td>13933</td>\n",
       "      <td>25727</td>\n",
       "    </tr>\n",
       "    <tr>\n",
       "      <th>474</th>\n",
       "      <td>4300578</td>\n",
       "      <td>leonardo</td>\n",
       "      <td>leonardocompany.com</td>\n",
       "      <td>1948.0</td>\n",
       "      <td>defense &amp; space</td>\n",
       "      <td>10001+</td>\n",
       "      <td>rome, lazio, italy</td>\n",
       "      <td>italy</td>\n",
       "      <td>linkedin.com/company/leonardo_company</td>\n",
       "      <td>12458</td>\n",
       "      <td>23304</td>\n",
       "    </tr>\n",
       "    <tr>\n",
       "      <th>481</th>\n",
       "      <td>438971</td>\n",
       "      <td>eni</td>\n",
       "      <td>eni.com</td>\n",
       "      <td>NaN</td>\n",
       "      <td>oil &amp; energy</td>\n",
       "      <td>10001+</td>\n",
       "      <td>rome, lazio, italy</td>\n",
       "      <td>italy</td>\n",
       "      <td>linkedin.com/company/eni</td>\n",
       "      <td>12321</td>\n",
       "      <td>25036</td>\n",
       "    </tr>\n",
       "    <tr>\n",
       "      <th>488</th>\n",
       "      <td>1765047</td>\n",
       "      <td>intesa sanpaolo</td>\n",
       "      <td>intesasanpaolo.com</td>\n",
       "      <td>2007.0</td>\n",
       "      <td>banking</td>\n",
       "      <td>10001+</td>\n",
       "      <td>turin, piedmont, italy</td>\n",
       "      <td>italy</td>\n",
       "      <td>linkedin.com/company/intesa-sanpaolo</td>\n",
       "      <td>12248</td>\n",
       "      <td>18965</td>\n",
       "    </tr>\n",
       "  </tbody>\n",
       "</table>\n",
       "</div>"
      ],
      "text/plain": [
       "     Unnamed: 0             name               domain  year founded  \\\n",
       "368     3388682           saipem           saipem.com        1957.0   \n",
       "408     5150220        unicredit    unicreditgroup.eu        2014.0   \n",
       "474     4300578         leonardo  leonardocompany.com        1948.0   \n",
       "481      438971              eni              eni.com           NaN   \n",
       "488     1765047  intesa sanpaolo   intesasanpaolo.com        2007.0   \n",
       "\n",
       "            industry size range                           locality country  \\\n",
       "368     oil & energy     10001+  san donato milanese, milan, italy   italy   \n",
       "408          banking     10001+            milano, lombardy, italy   italy   \n",
       "474  defense & space     10001+                 rome, lazio, italy   italy   \n",
       "481     oil & energy     10001+                 rome, lazio, italy   italy   \n",
       "488          banking     10001+             turin, piedmont, italy   italy   \n",
       "\n",
       "                              linkedin url  current employee estimate  \\\n",
       "368            linkedin.com/company/saipem                      14858   \n",
       "408         linkedin.com/company/unicredit                      13933   \n",
       "474  linkedin.com/company/leonardo_company                      12458   \n",
       "481               linkedin.com/company/eni                      12321   \n",
       "488   linkedin.com/company/intesa-sanpaolo                      12248   \n",
       "\n",
       "     total employee estimate  \n",
       "368                    33895  \n",
       "408                    25727  \n",
       "474                    23304  \n",
       "481                    25036  \n",
       "488                    18965  "
      ]
     },
     "execution_count": 7,
     "metadata": {},
     "output_type": "execute_result"
    }
   ],
   "source": [
    "italy_companies.head(5)"
   ]
  },
  {
   "cell_type": "code",
   "execution_count": 8,
   "metadata": {},
   "outputs": [
    {
     "data": {
      "text/plain": [
       "milano, lombardy, italy           11699\n",
       "rome, lazio, italy                 7746\n",
       "torino, piedmont, italy            3495\n",
       "genoa, liguria, italy              2981\n",
       "bologna, emilia-romagna, italy     2754\n",
       "Name: locality, dtype: int64"
      ]
     },
     "execution_count": 8,
     "metadata": {},
     "output_type": "execute_result"
    }
   ],
   "source": [
    "# miro los attributos localidad y decido quedarme con la ciudad de Milan\n",
    "italy_companies['locality'].value_counts().head(5)"
   ]
  },
  {
   "cell_type": "code",
   "execution_count": 9,
   "metadata": {},
   "outputs": [
    {
     "name": "stderr",
     "output_type": "stream",
     "text": [
      "/home/must4in3/anaconda3/lib/python3.7/site-packages/ipykernel_launcher.py:2: SettingWithCopyWarning: \n",
      "A value is trying to be set on a copy of a slice from a DataFrame.\n",
      "Try using .loc[row_indexer,col_indexer] = value instead\n",
      "\n",
      "See the caveats in the documentation: https://pandas.pydata.org/pandas-docs/stable/user_guide/indexing.html#returning-a-view-versus-a-copy\n",
      "  \n"
     ]
    }
   ],
   "source": [
    "# Find the NaN values and change them\n",
    "italy_companies['locality'] = italy_companies['locality'].fillna('No Values')\n",
    "milan_companies = italy_companies[italy_companies['locality'].str.contains(pat = 'milan')]"
   ]
  },
  {
   "cell_type": "code",
   "execution_count": 10,
   "metadata": {},
   "outputs": [
    {
     "data": {
      "text/html": [
       "<div>\n",
       "<style scoped>\n",
       "    .dataframe tbody tr th:only-of-type {\n",
       "        vertical-align: middle;\n",
       "    }\n",
       "\n",
       "    .dataframe tbody tr th {\n",
       "        vertical-align: top;\n",
       "    }\n",
       "\n",
       "    .dataframe thead th {\n",
       "        text-align: right;\n",
       "    }\n",
       "</style>\n",
       "<table border=\"1\" class=\"dataframe\">\n",
       "  <thead>\n",
       "    <tr style=\"text-align: right;\">\n",
       "      <th></th>\n",
       "      <th>Unnamed: 0</th>\n",
       "      <th>name</th>\n",
       "      <th>domain</th>\n",
       "      <th>year founded</th>\n",
       "      <th>industry</th>\n",
       "      <th>size range</th>\n",
       "      <th>locality</th>\n",
       "      <th>country</th>\n",
       "      <th>linkedin url</th>\n",
       "      <th>current employee estimate</th>\n",
       "      <th>total employee estimate</th>\n",
       "    </tr>\n",
       "  </thead>\n",
       "  <tbody>\n",
       "    <tr>\n",
       "      <th>368</th>\n",
       "      <td>3388682</td>\n",
       "      <td>saipem</td>\n",
       "      <td>saipem.com</td>\n",
       "      <td>1957.0</td>\n",
       "      <td>oil &amp; energy</td>\n",
       "      <td>10001+</td>\n",
       "      <td>san donato milanese, milan, italy</td>\n",
       "      <td>italy</td>\n",
       "      <td>linkedin.com/company/saipem</td>\n",
       "      <td>14858</td>\n",
       "      <td>33895</td>\n",
       "    </tr>\n",
       "    <tr>\n",
       "      <th>408</th>\n",
       "      <td>5150220</td>\n",
       "      <td>unicredit</td>\n",
       "      <td>unicreditgroup.eu</td>\n",
       "      <td>2014.0</td>\n",
       "      <td>banking</td>\n",
       "      <td>10001+</td>\n",
       "      <td>milano, lombardy, italy</td>\n",
       "      <td>italy</td>\n",
       "      <td>linkedin.com/company/unicredit</td>\n",
       "      <td>13933</td>\n",
       "      <td>25727</td>\n",
       "    </tr>\n",
       "    <tr>\n",
       "      <th>529</th>\n",
       "      <td>4105246</td>\n",
       "      <td>telecom italia</td>\n",
       "      <td>telecomitalia.com</td>\n",
       "      <td>1994.0</td>\n",
       "      <td>telecommunications</td>\n",
       "      <td>10001+</td>\n",
       "      <td>milano, lombardy, italy</td>\n",
       "      <td>italy</td>\n",
       "      <td>linkedin.com/company/telecom-italia</td>\n",
       "      <td>11628</td>\n",
       "      <td>22587</td>\n",
       "    </tr>\n",
       "    <tr>\n",
       "      <th>771</th>\n",
       "      <td>5799337</td>\n",
       "      <td>luxottica</td>\n",
       "      <td>luxottica.com</td>\n",
       "      <td>1961.0</td>\n",
       "      <td>apparel &amp; fashion</td>\n",
       "      <td>10001+</td>\n",
       "      <td>milan, lombardy, italy</td>\n",
       "      <td>italy</td>\n",
       "      <td>linkedin.com/company/luxottica</td>\n",
       "      <td>8804</td>\n",
       "      <td>21785</td>\n",
       "    </tr>\n",
       "    <tr>\n",
       "      <th>1435</th>\n",
       "      <td>1579414</td>\n",
       "      <td>pirelli</td>\n",
       "      <td>pirelli.com</td>\n",
       "      <td>1872.0</td>\n",
       "      <td>automotive</td>\n",
       "      <td>10001+</td>\n",
       "      <td>milano, lombardy, italy</td>\n",
       "      <td>italy</td>\n",
       "      <td>linkedin.com/company/pirelli</td>\n",
       "      <td>5491</td>\n",
       "      <td>16491</td>\n",
       "    </tr>\n",
       "  </tbody>\n",
       "</table>\n",
       "</div>"
      ],
      "text/plain": [
       "      Unnamed: 0            name             domain  year founded  \\\n",
       "368      3388682          saipem         saipem.com        1957.0   \n",
       "408      5150220       unicredit  unicreditgroup.eu        2014.0   \n",
       "529      4105246  telecom italia  telecomitalia.com        1994.0   \n",
       "771      5799337       luxottica      luxottica.com        1961.0   \n",
       "1435     1579414         pirelli        pirelli.com        1872.0   \n",
       "\n",
       "                industry size range                           locality  \\\n",
       "368         oil & energy     10001+  san donato milanese, milan, italy   \n",
       "408              banking     10001+            milano, lombardy, italy   \n",
       "529   telecommunications     10001+            milano, lombardy, italy   \n",
       "771    apparel & fashion     10001+             milan, lombardy, italy   \n",
       "1435          automotive     10001+            milano, lombardy, italy   \n",
       "\n",
       "     country                         linkedin url  current employee estimate  \\\n",
       "368    italy          linkedin.com/company/saipem                      14858   \n",
       "408    italy       linkedin.com/company/unicredit                      13933   \n",
       "529    italy  linkedin.com/company/telecom-italia                      11628   \n",
       "771    italy       linkedin.com/company/luxottica                       8804   \n",
       "1435   italy         linkedin.com/company/pirelli                       5491   \n",
       "\n",
       "      total employee estimate  \n",
       "368                     33895  \n",
       "408                     25727  \n",
       "529                     22587  \n",
       "771                     21785  \n",
       "1435                    16491  "
      ]
     },
     "execution_count": 10,
     "metadata": {},
     "output_type": "execute_result"
    }
   ],
   "source": [
    "milan_companies.head(5)"
   ]
  },
  {
   "cell_type": "code",
   "execution_count": 11,
   "metadata": {},
   "outputs": [
    {
     "data": {
      "text/plain": [
       "information technology and services    1317\n",
       "marketing and advertising              1285\n",
       "management consulting                   865\n",
       "internet                                549\n",
       "design                                  400\n",
       "Name: industry, dtype: int64"
      ]
     },
     "execution_count": 11,
     "metadata": {},
     "output_type": "execute_result"
    }
   ],
   "source": [
    "milan_companies['industry'].value_counts().head(5)"
   ]
  },
  {
   "cell_type": "code",
   "execution_count": 12,
   "metadata": {},
   "outputs": [],
   "source": [
    "# https://api.foursquare.com/v2/venues/search?ll=40.744010080453,-73.985651532083&categoryId=4d4b7105d754a06374d81259&query=starbucks&client_id=your_client_id&client_secret=your_client_secret\n",
    "# https://api.foursquare.com/v2/venues/search?ll=40.7,-74&client_id=CLIENT_ID&client_secret=CLIENT_SECRET&v=YYYYMMDD\n"
   ]
  },
  {
   "cell_type": "code",
   "execution_count": 13,
   "metadata": {},
   "outputs": [
    {
     "data": {
      "text/plain": [
       "True"
      ]
     },
     "execution_count": 13,
     "metadata": {},
     "output_type": "execute_result"
    }
   ],
   "source": [
    "load_dotenv()"
   ]
  },
  {
   "cell_type": "markdown",
   "metadata": {},
   "source": [
    "# Design Companies in Milan API foursquare"
   ]
  },
  {
   "cell_type": "code",
   "execution_count": 98,
   "metadata": {},
   "outputs": [],
   "source": [
    "design_companies = milan_companies[milan_companies.industry == 'design']"
   ]
  },
  {
   "cell_type": "code",
   "execution_count": 99,
   "metadata": {},
   "outputs": [
    {
     "data": {
      "text/html": [
       "<div>\n",
       "<style scoped>\n",
       "    .dataframe tbody tr th:only-of-type {\n",
       "        vertical-align: middle;\n",
       "    }\n",
       "\n",
       "    .dataframe tbody tr th {\n",
       "        vertical-align: top;\n",
       "    }\n",
       "\n",
       "    .dataframe thead th {\n",
       "        text-align: right;\n",
       "    }\n",
       "</style>\n",
       "<table border=\"1\" class=\"dataframe\">\n",
       "  <thead>\n",
       "    <tr style=\"text-align: right;\">\n",
       "      <th></th>\n",
       "      <th>Unnamed: 0</th>\n",
       "      <th>name</th>\n",
       "      <th>domain</th>\n",
       "      <th>year founded</th>\n",
       "      <th>industry</th>\n",
       "      <th>size range</th>\n",
       "      <th>locality</th>\n",
       "      <th>country</th>\n",
       "      <th>linkedin url</th>\n",
       "      <th>current employee estimate</th>\n",
       "      <th>total employee estimate</th>\n",
       "    </tr>\n",
       "  </thead>\n",
       "  <tbody>\n",
       "    <tr>\n",
       "      <th>34487</th>\n",
       "      <td>4926474</td>\n",
       "      <td>naba nuova accademia di belle arti</td>\n",
       "      <td>naba.it</td>\n",
       "      <td>1980.0</td>\n",
       "      <td>design</td>\n",
       "      <td>1001 - 5000</td>\n",
       "      <td>milan, lombardy, italy</td>\n",
       "      <td>italy</td>\n",
       "      <td>linkedin.com/company/naba-nuova-accademia-di-b...</td>\n",
       "      <td>339</td>\n",
       "      <td>969</td>\n",
       "    </tr>\n",
       "    <tr>\n",
       "      <th>55395</th>\n",
       "      <td>4000697</td>\n",
       "      <td>artemide</td>\n",
       "      <td>artemide.com</td>\n",
       "      <td>1960.0</td>\n",
       "      <td>design</td>\n",
       "      <td>501 - 1000</td>\n",
       "      <td>milano, lombardy, italy</td>\n",
       "      <td>italy</td>\n",
       "      <td>linkedin.com/company/artemide</td>\n",
       "      <td>208</td>\n",
       "      <td>616</td>\n",
       "    </tr>\n",
       "    <tr>\n",
       "      <th>83894</th>\n",
       "      <td>1511244</td>\n",
       "      <td>logotel</td>\n",
       "      <td>logotel.it</td>\n",
       "      <td>1993.0</td>\n",
       "      <td>design</td>\n",
       "      <td>201 - 500</td>\n",
       "      <td>milano, lombardy, italy</td>\n",
       "      <td>italy</td>\n",
       "      <td>linkedin.com/company/logotel</td>\n",
       "      <td>134</td>\n",
       "      <td>308</td>\n",
       "    </tr>\n",
       "    <tr>\n",
       "      <th>89013</th>\n",
       "      <td>6913390</td>\n",
       "      <td>domus academy</td>\n",
       "      <td>domusacademy.com</td>\n",
       "      <td>1983.0</td>\n",
       "      <td>design</td>\n",
       "      <td>201 - 500</td>\n",
       "      <td>milano, lombardy, italy</td>\n",
       "      <td>italy</td>\n",
       "      <td>linkedin.com/company/domus-academy</td>\n",
       "      <td>126</td>\n",
       "      <td>498</td>\n",
       "    </tr>\n",
       "    <tr>\n",
       "      <th>93388</th>\n",
       "      <td>2533233</td>\n",
       "      <td>kartell</td>\n",
       "      <td>kartell.it</td>\n",
       "      <td>1946.0</td>\n",
       "      <td>design</td>\n",
       "      <td>201 - 500</td>\n",
       "      <td>milano, lombardy, italy</td>\n",
       "      <td>italy</td>\n",
       "      <td>linkedin.com/company/kartell</td>\n",
       "      <td>120</td>\n",
       "      <td>384</td>\n",
       "    </tr>\n",
       "  </tbody>\n",
       "</table>\n",
       "</div>"
      ],
      "text/plain": [
       "       Unnamed: 0                                name            domain  \\\n",
       "34487     4926474  naba nuova accademia di belle arti           naba.it   \n",
       "55395     4000697                            artemide      artemide.com   \n",
       "83894     1511244                             logotel        logotel.it   \n",
       "89013     6913390                       domus academy  domusacademy.com   \n",
       "93388     2533233                             kartell        kartell.it   \n",
       "\n",
       "       year founded industry   size range                 locality country  \\\n",
       "34487        1980.0   design  1001 - 5000   milan, lombardy, italy   italy   \n",
       "55395        1960.0   design   501 - 1000  milano, lombardy, italy   italy   \n",
       "83894        1993.0   design    201 - 500  milano, lombardy, italy   italy   \n",
       "89013        1983.0   design    201 - 500  milano, lombardy, italy   italy   \n",
       "93388        1946.0   design    201 - 500  milano, lombardy, italy   italy   \n",
       "\n",
       "                                            linkedin url  \\\n",
       "34487  linkedin.com/company/naba-nuova-accademia-di-b...   \n",
       "55395                      linkedin.com/company/artemide   \n",
       "83894                       linkedin.com/company/logotel   \n",
       "89013                 linkedin.com/company/domus-academy   \n",
       "93388                       linkedin.com/company/kartell   \n",
       "\n",
       "       current employee estimate  total employee estimate  \n",
       "34487                        339                      969  \n",
       "55395                        208                      616  \n",
       "83894                        134                      308  \n",
       "89013                        126                      498  \n",
       "93388                        120                      384  "
      ]
     },
     "execution_count": 99,
     "metadata": {},
     "output_type": "execute_result"
    }
   ],
   "source": [
    "design_companies.head(5)"
   ]
  },
  {
   "cell_type": "code",
   "execution_count": 100,
   "metadata": {},
   "outputs": [],
   "source": [
    "client_id = os.getenv(\"CLIENT_ID\")\n",
    "client_secret = os.getenv(\"CLIENT_SECRET\")"
   ]
  },
  {
   "cell_type": "code",
   "execution_count": 101,
   "metadata": {},
   "outputs": [
    {
     "name": "stdout",
     "output_type": "stream",
     "text": [
      "{'meta': {'code': 429, 'errorType': 'quota_exceeded', 'errorDetail': 'Quota exceeded', 'requestId': '5ef6831dffc68c0266722f6e'}, 'response': {}}\n",
      "{'meta': {'code': 429, 'errorType': 'quota_exceeded', 'errorDetail': 'Quota exceeded', 'requestId': '5ef6823304a548438958fb04'}, 'response': {}}\n",
      "{'meta': {'code': 429, 'errorType': 'quota_exceeded', 'errorDetail': 'Quota exceeded', 'requestId': '5ef682746174af182013caa5'}, 'response': {}}\n",
      "{'meta': {'code': 429, 'errorType': 'quota_exceeded', 'errorDetail': 'Quota exceeded', 'requestId': '5ef6826332a8a9628598110f'}, 'response': {}}\n",
      "{'meta': {'code': 429, 'errorType': 'quota_exceeded', 'errorDetail': 'Quota exceeded', 'requestId': '5ef6820f95d86421fc11a513'}, 'response': {}}\n",
      "{'meta': {'code': 429, 'errorType': 'quota_exceeded', 'errorDetail': 'Quota exceeded', 'requestId': '5ef6817ce0d74740ce01c715'}, 'response': {}}\n",
      "{'meta': {'code': 429, 'errorType': 'quota_exceeded', 'errorDetail': 'Quota exceeded', 'requestId': '5ef6829bbbdb0a49a6ea0f95'}, 'response': {}}\n",
      "{'meta': {'code': 429, 'errorType': 'quota_exceeded', 'errorDetail': 'Quota exceeded', 'requestId': '5ef68183513bb60f51acabf6'}, 'response': {}}\n",
      "{'meta': {'code': 429, 'errorType': 'quota_exceeded', 'errorDetail': 'Quota exceeded', 'requestId': '5ef68168d76da77399ec2d31'}, 'response': {}}\n",
      "{'meta': {'code': 429, 'errorType': 'quota_exceeded', 'errorDetail': 'Quota exceeded', 'requestId': '5ef68314d0415c07c658797a'}, 'response': {}}\n",
      "{'meta': {'code': 429, 'errorType': 'quota_exceeded', 'errorDetail': 'Quota exceeded', 'requestId': '5ef682c2546946258fde8d1f'}, 'response': {}}\n",
      "CPU times: user 508 ms, sys: 21.1 ms, total: 529 ms\n",
      "Wall time: 6.39 s\n"
     ]
    }
   ],
   "source": [
    "%%time\n",
    "# error 429 el try y el except no lo necesito en teoria\n",
    "design_companies_location = []\n",
    "for design_c in design_companies[:4]:\n",
    "    url = f'https://api.foursquare.com/v2/venues/search?near=milan&query={design_c}&client_id={client_id}&client_secret={client_secret}&v=20181101'\n",
    "    res = requests.get(url)\n",
    "    company_json = res.json()\n",
    "    print(company_json)\n",
    "    try:\n",
    "        c_json = company_json['response']['venues']\n",
    "        c_json= pd.DataFrame(c_json) #read json  \n",
    "        print(c_json)\n",
    "        design_companies_location.append({'name': c_json['name'], 'location': c_json['location'], 'categories': c_json[f'categories']})\n",
    "    except KeyError:\n",
    "        pass"
   ]
  },
  {
   "cell_type": "code",
   "execution_count": null,
   "metadata": {},
   "outputs": [],
   "source": [
    "design_companies_location\n",
    "design_company_table = pd.DataFrame(design_companies_location)"
   ]
  },
  {
   "cell_type": "code",
   "execution_count": null,
   "metadata": {},
   "outputs": [],
   "source": [
    "design_company_table.head(50)"
   ]
  },
  {
   "cell_type": "code",
   "execution_count": null,
   "metadata": {},
   "outputs": [],
   "source": [
    "design_companies_location"
   ]
  },
  {
   "cell_type": "code",
   "execution_count": null,
   "metadata": {},
   "outputs": [],
   "source": [
    "prin"
   ]
  },
  {
   "cell_type": "code",
   "execution_count": null,
   "metadata": {},
   "outputs": [],
   "source": [
    "a = []\n",
    "for i in range(len(design_companies_location)):\n",
    "        a.append(design_companies_location[i]['response'])"
   ]
  },
  {
   "cell_type": "code",
   "execution_count": null,
   "metadata": {},
   "outputs": [],
   "source": [
    "b= []\n",
    "for x in range(len(a)):\n",
    "    try:\n",
    "        b.append(a[x]['venues'])\n",
    "    except KeyError as e:\n",
    "        print(None)"
   ]
  },
  {
   "cell_type": "code",
   "execution_count": null,
   "metadata": {},
   "outputs": [],
   "source": []
  },
  {
   "cell_type": "code",
   "execution_count": null,
   "metadata": {},
   "outputs": [],
   "source": [
    "%%time\n",
    "dataframe_design_milano = []\n",
    "for i in range(len(design_companies_location)):\n",
    "    try:\n",
    "        des = pd.DataFrame(design_companies_location[i]['response']['venues']) #read json\n",
    "        dict_design = {'name': des['name'], 'location': des['location'], 'categories': des[f'categories']}\n",
    "        dataframe_design_milano.append(dict_design)\n",
    "    except Exception as e:\n",
    "        pass\n",
    "        #print('venues attribute not find')\n",
    "\n",
    "    "
   ]
  },
  {
   "cell_type": "code",
   "execution_count": null,
   "metadata": {},
   "outputs": [],
   "source": [
    "table_design = pd.DataFrame(dataframe_design_milano) \n",
    "table_design.head(60)"
   ]
  },
  {
   "cell_type": "code",
   "execution_count": null,
   "metadata": {},
   "outputs": [],
   "source": [
    "# enviar una request. Si sale un numero que empieza con 2 todo bien, \n",
    "# o si no ver los errores de los gatos a ver que dicen!\n",
    "url = f'https://api.foursquare.com/v2/venues/search?near=milan&query=Starbucks&client_id={client_id}&client_secret={client_secret}&v=20181101'\n",
    "res = requests.get(url)\n",
    "starbucks= res.json()\n",
    "# del requests seleciono solo la key venues dentro response\n",
    "starbucks['response']['venues']\n",
    "# leer infos read_json leer documentacíon"
   ]
  },
  {
   "cell_type": "markdown",
   "metadata": {},
   "source": [
    "# Starbucks from API foursquare"
   ]
  },
  {
   "cell_type": "code",
   "execution_count": 14,
   "metadata": {},
   "outputs": [],
   "source": [
    "# https://www.starbucks.it/store-locator/search/location/milano\n",
    "# TRY WEB SCRAPING"
   ]
  },
  {
   "cell_type": "code",
   "execution_count": 15,
   "metadata": {},
   "outputs": [],
   "source": [
    "client_id = os.getenv(\"CLIENT_ID\")\n",
    "client_secret = os.getenv(\"CLIENT_SECRET\")"
   ]
  },
  {
   "cell_type": "code",
   "execution_count": 19,
   "metadata": {},
   "outputs": [
    {
     "name": "stdout",
     "output_type": "stream",
     "text": [
      "<Response [429]>\n"
     ]
    },
    {
     "ename": "KeyError",
     "evalue": "'venues'",
     "output_type": "error",
     "traceback": [
      "\u001b[0;31m---------------------------------------------------------------------------\u001b[0m",
      "\u001b[0;31mKeyError\u001b[0m                                  Traceback (most recent call last)",
      "\u001b[0;32m<ipython-input-19-aad1346e66d9>\u001b[0m in \u001b[0;36m<module>\u001b[0;34m\u001b[0m\n\u001b[1;32m      6\u001b[0m \u001b[0mstarbucks\u001b[0m\u001b[0;34m=\u001b[0m \u001b[0mres\u001b[0m\u001b[0;34m.\u001b[0m\u001b[0mjson\u001b[0m\u001b[0;34m(\u001b[0m\u001b[0;34m)\u001b[0m\u001b[0;34m\u001b[0m\u001b[0;34m\u001b[0m\u001b[0m\n\u001b[1;32m      7\u001b[0m \u001b[0;31m# del requests seleciono solo la key venues dentro response\u001b[0m\u001b[0;34m\u001b[0m\u001b[0;34m\u001b[0m\u001b[0;34m\u001b[0m\u001b[0m\n\u001b[0;32m----> 8\u001b[0;31m \u001b[0mstarbucks\u001b[0m\u001b[0;34m[\u001b[0m\u001b[0;34m'response'\u001b[0m\u001b[0;34m]\u001b[0m\u001b[0;34m[\u001b[0m\u001b[0;34m'venues'\u001b[0m\u001b[0;34m]\u001b[0m\u001b[0;34m\u001b[0m\u001b[0;34m\u001b[0m\u001b[0m\n\u001b[0m\u001b[1;32m      9\u001b[0m \u001b[0;31m# leer infos read_json leer documentacíon\u001b[0m\u001b[0;34m\u001b[0m\u001b[0;34m\u001b[0m\u001b[0;34m\u001b[0m\u001b[0m\n",
      "\u001b[0;31mKeyError\u001b[0m: 'venues'"
     ]
    }
   ],
   "source": [
    "# enviar una request. Si sale un numero que empieza con 2 todo bien, \n",
    "# o si no ver los errores de los gatos a ver que dicen!\n",
    "url = f'https://api.foursquare.com/v2/venues/search?near=milan&query=Starbucks&client_id={client_id}&client_secret={client_secret}&v=20181101'\n",
    "res = requests.get(url)\n",
    "starbucks= res.json()\n",
    "# del requests seleciono solo la key venues dentro response\n",
    "starbucks['response']['venues']\n",
    "# leer infos read_json leer documentacíon"
   ]
  },
  {
   "cell_type": "code",
   "execution_count": null,
   "metadata": {},
   "outputs": [],
   "source": [
    "# dataframe de los starbucks in Milan\n",
    "table_starbucks = pd.DataFrame((starbucks['response']['venues'])) #read json\n",
    "table_starbucks.head(3)"
   ]
  },
  {
   "cell_type": "code",
   "execution_count": null,
   "metadata": {},
   "outputs": [],
   "source": [
    "# elimino la unica row que no tenga Starbucks\n",
    "table_starbucks = table_starbucks[table_starbucks['name'].str.contains(pat = 'Starbucks')]\n",
    "# separo la columna location en subcolumnas para recuperar latitude y longitude\n",
    "geo_starbucks = pd.DataFrame(table_starbucks.location.apply(pd.Series))"
   ]
  },
  {
   "cell_type": "code",
   "execution_count": null,
   "metadata": {},
   "outputs": [],
   "source": [
    "# starbucks table limpia lista para la transformacíon en GeoPoint\n",
    "clean_starbucks = pd.concat([table_starbucks[\"name\"], geo_starbucks[['address','lat','lng']]], axis=1)\n",
    "clean_starbucks"
   ]
  },
  {
   "cell_type": "code",
   "execution_count": null,
   "metadata": {},
   "outputs": [],
   "source": [
    "# para poder hacer query en MongoDB se necesita este formato \n",
    "# <field>: { type: <GeoJSON type> , coordinates: <coordinates> }\n",
    "# por eso llamo la funcion transformToGeoPoint\n",
    "clean_starbucks[\"geopoint\"] = clean_starbucks.apply(transformToGeoPoint, axis=1)\n",
    "clean_starbucks"
   ]
  },
  {
   "cell_type": "code",
   "execution_count": null,
   "metadata": {},
   "outputs": [],
   "source": [
    "# Convert objectIds to string to be able to export as JSON \n",
    "clean_starbucks[\"geopoint\"] = clean_starbucks[\"geopoint\"].apply(lambda e: str(e))\n",
    "# Export as json records to import with mongoimport \n",
    "clean_starbucks.to_json(\"output/starbucks.json\",orient=\"records\")\n",
    "# mongoimport -d datamad0620 -c offices --jsonArray offices.json"
   ]
  },
  {
   "cell_type": "markdown",
   "metadata": {},
   "source": [
    "# sitios para diversion"
   ]
  },
  {
   "cell_type": "code",
   "execution_count": 37,
   "metadata": {},
   "outputs": [],
   "source": [
    "#https://dati.comune.milano.it/dataset/ds252-economia-locali-pubblico-spettacolo"
   ]
  },
  {
   "cell_type": "code",
   "execution_count": 85,
   "metadata": {},
   "outputs": [
    {
     "name": "stdout",
     "output_type": "stream",
     "text": [
      "Database(MongoClient(host=['localhost:27017'], document_class=dict, tz_aware=False, connect=True, connecttimeoutms=2000, serverselectiontimeoutms=2000), 'Italian_Companies')\n"
     ]
    }
   ],
   "source": [
    "dbName = \"Italian_Companies\"\n",
    "mongodbURL = f\"mongodb://localhost/{dbName}\"\n",
    "client = MongoClient(mongodbURL, connectTimeoutMS=2000, serverSelectionTimeoutMS=2000)\n",
    "\n",
    "db = client.get_database()\n",
    "print(db)"
   ]
  },
  {
   "cell_type": "code",
   "execution_count": 92,
   "metadata": {},
   "outputs": [],
   "source": [
    "cur = db.Italian_Companies.find({\"insegna\":{'$ne':None}},{\"insegna\":1,\"_id\":0, \"LAT_WGS84\":1, \"LONG_WGS84\":1})"
   ]
  },
  {
   "cell_type": "code",
   "execution_count": 93,
   "metadata": {},
   "outputs": [],
   "source": [
    "data = list(cur)"
   ]
  },
  {
   "cell_type": "code",
   "execution_count": 94,
   "metadata": {},
   "outputs": [],
   "source": [
    "sitios_para_diversione = pd.DataFrame(data)"
   ]
  },
  {
   "cell_type": "code",
   "execution_count": 96,
   "metadata": {},
   "outputs": [
    {
     "data": {
      "text/html": [
       "<div>\n",
       "<style scoped>\n",
       "    .dataframe tbody tr th:only-of-type {\n",
       "        vertical-align: middle;\n",
       "    }\n",
       "\n",
       "    .dataframe tbody tr th {\n",
       "        vertical-align: top;\n",
       "    }\n",
       "\n",
       "    .dataframe thead th {\n",
       "        text-align: right;\n",
       "    }\n",
       "</style>\n",
       "<table border=\"1\" class=\"dataframe\">\n",
       "  <thead>\n",
       "    <tr style=\"text-align: right;\">\n",
       "      <th></th>\n",
       "      <th>insegna</th>\n",
       "      <th>LONG_WGS84</th>\n",
       "      <th>LAT_WGS84</th>\n",
       "    </tr>\n",
       "  </thead>\n",
       "  <tbody>\n",
       "    <tr>\n",
       "      <th>0</th>\n",
       "      <td>PERSEFONE</td>\n",
       "      <td>9.17573102533</td>\n",
       "      <td>45.4966580754</td>\n",
       "    </tr>\n",
       "    <tr>\n",
       "      <th>1</th>\n",
       "      <td>MAF CAFFE'</td>\n",
       "      <td>9.18734461471</td>\n",
       "      <td>45.4815798192</td>\n",
       "    </tr>\n",
       "    <tr>\n",
       "      <th>2</th>\n",
       "      <td>NEW ART CAFE'</td>\n",
       "      <td>9.18744603431</td>\n",
       "      <td>45.4723787241</td>\n",
       "    </tr>\n",
       "    <tr>\n",
       "      <th>3</th>\n",
       "      <td>BANA</td>\n",
       "      <td>9.2478678237</td>\n",
       "      <td>45.4527750264</td>\n",
       "    </tr>\n",
       "    <tr>\n",
       "      <th>4</th>\n",
       "      <td>NOY CONCEPT RESTAURANT CAFE'</td>\n",
       "      <td>9.16219092448</td>\n",
       "      <td>45.4652654996</td>\n",
       "    </tr>\n",
       "    <tr>\n",
       "      <th>...</th>\n",
       "      <td>...</td>\n",
       "      <td>...</td>\n",
       "      <td>...</td>\n",
       "    </tr>\n",
       "    <tr>\n",
       "      <th>302</th>\n",
       "      <td>FOCA LOCA</td>\n",
       "      <td>9.19153079935</td>\n",
       "      <td>45.4612676413</td>\n",
       "    </tr>\n",
       "    <tr>\n",
       "      <th>303</th>\n",
       "      <td>BULLONA</td>\n",
       "      <td>9.16075715072</td>\n",
       "      <td>45.4861272708</td>\n",
       "    </tr>\n",
       "    <tr>\n",
       "      <th>304</th>\n",
       "      <td>GOLD PRIVE'</td>\n",
       "      <td>9.18267326746</td>\n",
       "      <td>45.4607987305</td>\n",
       "    </tr>\n",
       "    <tr>\n",
       "      <th>305</th>\n",
       "      <td>ROCK 'N ROLL</td>\n",
       "      <td>9.20782240181</td>\n",
       "      <td>45.4924448979</td>\n",
       "    </tr>\n",
       "    <tr>\n",
       "      <th>306</th>\n",
       "      <td>APOPHIS</td>\n",
       "      <td>9.19602034698</td>\n",
       "      <td>45.4626321586</td>\n",
       "    </tr>\n",
       "  </tbody>\n",
       "</table>\n",
       "<p>307 rows × 3 columns</p>\n",
       "</div>"
      ],
      "text/plain": [
       "                          insegna     LONG_WGS84      LAT_WGS84\n",
       "0                       PERSEFONE  9.17573102533  45.4966580754\n",
       "1                      MAF CAFFE'  9.18734461471  45.4815798192\n",
       "2                   NEW ART CAFE'  9.18744603431  45.4723787241\n",
       "3                            BANA   9.2478678237  45.4527750264\n",
       "4    NOY CONCEPT RESTAURANT CAFE'  9.16219092448  45.4652654996\n",
       "..                            ...            ...            ...\n",
       "302                     FOCA LOCA  9.19153079935  45.4612676413\n",
       "303                       BULLONA  9.16075715072  45.4861272708\n",
       "304                   GOLD PRIVE'  9.18267326746  45.4607987305\n",
       "305                  ROCK 'N ROLL  9.20782240181  45.4924448979\n",
       "306                       APOPHIS  9.19602034698  45.4626321586\n",
       "\n",
       "[307 rows x 3 columns]"
      ]
     },
     "execution_count": 96,
     "metadata": {},
     "output_type": "execute_result"
    }
   ],
   "source": [
    "sitios_para_diversione"
   ]
  },
  {
   "cell_type": "code",
   "execution_count": null,
   "metadata": {},
   "outputs": [],
   "source": []
  }
 ],
 "metadata": {
  "kernelspec": {
   "display_name": "Python 3",
   "language": "python",
   "name": "python3"
  },
  "language_info": {
   "codemirror_mode": {
    "name": "ipython",
    "version": 3
   },
   "file_extension": ".py",
   "mimetype": "text/x-python",
   "name": "python",
   "nbconvert_exporter": "python",
   "pygments_lexer": "ipython3",
   "version": "3.7.6"
  }
 },
 "nbformat": 4,
 "nbformat_minor": 4
}
